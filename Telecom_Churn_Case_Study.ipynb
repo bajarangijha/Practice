{
 "cells": [
  {
   "cell_type": "markdown",
   "metadata": {},
   "source": [
    "# Telecom Churn - Case Study"
   ]
  },
  {
   "cell_type": "code",
   "execution_count": 1,
   "metadata": {},
   "outputs": [],
   "source": [
    "# import libraries\n",
    "import pandas as pd\n",
    "import numpy as np\n",
    "import matplotlib.pyplot as plt\n",
    "import seaborn as sns\n",
    "\n",
    "import warnings\n",
    "warnings.filterwarnings('ignore')\n",
    "\n",
    "from sklearn.model_selection import train_test_split\n",
    "from sklearn.pipeline import Pipeline\n",
    "from sklearn.decomposition import PCA\n",
    "from sklearn.preprocessing import StandardScaler\n",
    "from sklearn.pipeline import FeatureUnion\n",
    "from sklearn.base import BaseEstimator, TransformerMixin\n",
    "from sklearn.linear_model import LogisticRegression\n",
    "from sklearn.metrics import classification_report\n",
    "from sklearn.metrics import roc_auc_score\n",
    "from imblearn.metrics import sensitivity_specificity_support\n",
    "from sklearn.model_selection import StratifiedKFold\n",
    "from sklearn.model_selection import cross_val_score\n",
    "from sklearn.metrics import confusion_matrix\n",
    "from sklearn.model_selection import GridSearchCV\n",
    "from sklearn.ensemble import RandomForestClassifier\n",
    "from sklearn.ensemble import GradientBoostingClassifier\n",
    "from sklearn.svm import SVC\n",
    "from IPython.core.interactiveshell import InteractiveShell\n",
    "InteractiveShell.ast_node_interactivity = \"all\"\n",
    "%matplotlib inline"
   ]
  },
  {
   "cell_type": "code",
   "execution_count": 2,
   "metadata": {},
   "outputs": [],
   "source": [
    "#Reading Dataset\n",
    "df=pd.read_csv('telecom_churn_data.csv')"
   ]
  },
  {
   "cell_type": "code",
   "execution_count": 3,
   "metadata": {},
   "outputs": [
    {
     "data": {
      "text/html": [
       "<div>\n",
       "<style scoped>\n",
       "    .dataframe tbody tr th:only-of-type {\n",
       "        vertical-align: middle;\n",
       "    }\n",
       "\n",
       "    .dataframe tbody tr th {\n",
       "        vertical-align: top;\n",
       "    }\n",
       "\n",
       "    .dataframe thead th {\n",
       "        text-align: right;\n",
       "    }\n",
       "</style>\n",
       "<table border=\"1\" class=\"dataframe\">\n",
       "  <thead>\n",
       "    <tr style=\"text-align: right;\">\n",
       "      <th></th>\n",
       "      <th>mobile_number</th>\n",
       "      <th>circle_id</th>\n",
       "      <th>loc_og_t2o_mou</th>\n",
       "      <th>std_og_t2o_mou</th>\n",
       "      <th>loc_ic_t2o_mou</th>\n",
       "      <th>last_date_of_month_6</th>\n",
       "      <th>last_date_of_month_7</th>\n",
       "      <th>last_date_of_month_8</th>\n",
       "      <th>last_date_of_month_9</th>\n",
       "      <th>arpu_6</th>\n",
       "      <th>...</th>\n",
       "      <th>sachet_3g_9</th>\n",
       "      <th>fb_user_6</th>\n",
       "      <th>fb_user_7</th>\n",
       "      <th>fb_user_8</th>\n",
       "      <th>fb_user_9</th>\n",
       "      <th>aon</th>\n",
       "      <th>aug_vbc_3g</th>\n",
       "      <th>jul_vbc_3g</th>\n",
       "      <th>jun_vbc_3g</th>\n",
       "      <th>sep_vbc_3g</th>\n",
       "    </tr>\n",
       "  </thead>\n",
       "  <tbody>\n",
       "    <tr>\n",
       "      <th>0</th>\n",
       "      <td>7000842753</td>\n",
       "      <td>109</td>\n",
       "      <td>0.0</td>\n",
       "      <td>0.0</td>\n",
       "      <td>0.0</td>\n",
       "      <td>6/30/2014</td>\n",
       "      <td>7/31/2014</td>\n",
       "      <td>8/31/2014</td>\n",
       "      <td>9/30/2014</td>\n",
       "      <td>197.385</td>\n",
       "      <td>...</td>\n",
       "      <td>0</td>\n",
       "      <td>1.0</td>\n",
       "      <td>1.0</td>\n",
       "      <td>1.0</td>\n",
       "      <td>NaN</td>\n",
       "      <td>968</td>\n",
       "      <td>30.4</td>\n",
       "      <td>0.0</td>\n",
       "      <td>101.20</td>\n",
       "      <td>3.58</td>\n",
       "    </tr>\n",
       "    <tr>\n",
       "      <th>1</th>\n",
       "      <td>7001865778</td>\n",
       "      <td>109</td>\n",
       "      <td>0.0</td>\n",
       "      <td>0.0</td>\n",
       "      <td>0.0</td>\n",
       "      <td>6/30/2014</td>\n",
       "      <td>7/31/2014</td>\n",
       "      <td>8/31/2014</td>\n",
       "      <td>9/30/2014</td>\n",
       "      <td>34.047</td>\n",
       "      <td>...</td>\n",
       "      <td>0</td>\n",
       "      <td>NaN</td>\n",
       "      <td>1.0</td>\n",
       "      <td>1.0</td>\n",
       "      <td>NaN</td>\n",
       "      <td>1006</td>\n",
       "      <td>0.0</td>\n",
       "      <td>0.0</td>\n",
       "      <td>0.00</td>\n",
       "      <td>0.00</td>\n",
       "    </tr>\n",
       "    <tr>\n",
       "      <th>2</th>\n",
       "      <td>7001625959</td>\n",
       "      <td>109</td>\n",
       "      <td>0.0</td>\n",
       "      <td>0.0</td>\n",
       "      <td>0.0</td>\n",
       "      <td>6/30/2014</td>\n",
       "      <td>7/31/2014</td>\n",
       "      <td>8/31/2014</td>\n",
       "      <td>9/30/2014</td>\n",
       "      <td>167.690</td>\n",
       "      <td>...</td>\n",
       "      <td>0</td>\n",
       "      <td>NaN</td>\n",
       "      <td>NaN</td>\n",
       "      <td>NaN</td>\n",
       "      <td>1.0</td>\n",
       "      <td>1103</td>\n",
       "      <td>0.0</td>\n",
       "      <td>0.0</td>\n",
       "      <td>4.17</td>\n",
       "      <td>0.00</td>\n",
       "    </tr>\n",
       "    <tr>\n",
       "      <th>3</th>\n",
       "      <td>7001204172</td>\n",
       "      <td>109</td>\n",
       "      <td>0.0</td>\n",
       "      <td>0.0</td>\n",
       "      <td>0.0</td>\n",
       "      <td>6/30/2014</td>\n",
       "      <td>7/31/2014</td>\n",
       "      <td>8/31/2014</td>\n",
       "      <td>9/30/2014</td>\n",
       "      <td>221.338</td>\n",
       "      <td>...</td>\n",
       "      <td>0</td>\n",
       "      <td>NaN</td>\n",
       "      <td>NaN</td>\n",
       "      <td>NaN</td>\n",
       "      <td>NaN</td>\n",
       "      <td>2491</td>\n",
       "      <td>0.0</td>\n",
       "      <td>0.0</td>\n",
       "      <td>0.00</td>\n",
       "      <td>0.00</td>\n",
       "    </tr>\n",
       "    <tr>\n",
       "      <th>4</th>\n",
       "      <td>7000142493</td>\n",
       "      <td>109</td>\n",
       "      <td>0.0</td>\n",
       "      <td>0.0</td>\n",
       "      <td>0.0</td>\n",
       "      <td>6/30/2014</td>\n",
       "      <td>7/31/2014</td>\n",
       "      <td>8/31/2014</td>\n",
       "      <td>9/30/2014</td>\n",
       "      <td>261.636</td>\n",
       "      <td>...</td>\n",
       "      <td>0</td>\n",
       "      <td>0.0</td>\n",
       "      <td>NaN</td>\n",
       "      <td>NaN</td>\n",
       "      <td>NaN</td>\n",
       "      <td>1526</td>\n",
       "      <td>0.0</td>\n",
       "      <td>0.0</td>\n",
       "      <td>0.00</td>\n",
       "      <td>0.00</td>\n",
       "    </tr>\n",
       "  </tbody>\n",
       "</table>\n",
       "<p>5 rows × 226 columns</p>\n",
       "</div>"
      ],
      "text/plain": [
       "   mobile_number  circle_id  loc_og_t2o_mou  std_og_t2o_mou  loc_ic_t2o_mou  \\\n",
       "0     7000842753        109             0.0             0.0             0.0   \n",
       "1     7001865778        109             0.0             0.0             0.0   \n",
       "2     7001625959        109             0.0             0.0             0.0   \n",
       "3     7001204172        109             0.0             0.0             0.0   \n",
       "4     7000142493        109             0.0             0.0             0.0   \n",
       "\n",
       "  last_date_of_month_6 last_date_of_month_7 last_date_of_month_8  \\\n",
       "0            6/30/2014            7/31/2014            8/31/2014   \n",
       "1            6/30/2014            7/31/2014            8/31/2014   \n",
       "2            6/30/2014            7/31/2014            8/31/2014   \n",
       "3            6/30/2014            7/31/2014            8/31/2014   \n",
       "4            6/30/2014            7/31/2014            8/31/2014   \n",
       "\n",
       "  last_date_of_month_9   arpu_6  ...  sachet_3g_9  fb_user_6  fb_user_7  \\\n",
       "0            9/30/2014  197.385  ...            0        1.0        1.0   \n",
       "1            9/30/2014   34.047  ...            0        NaN        1.0   \n",
       "2            9/30/2014  167.690  ...            0        NaN        NaN   \n",
       "3            9/30/2014  221.338  ...            0        NaN        NaN   \n",
       "4            9/30/2014  261.636  ...            0        0.0        NaN   \n",
       "\n",
       "   fb_user_8  fb_user_9   aon  aug_vbc_3g  jul_vbc_3g  jun_vbc_3g  sep_vbc_3g  \n",
       "0        1.0        NaN   968        30.4         0.0      101.20        3.58  \n",
       "1        1.0        NaN  1006         0.0         0.0        0.00        0.00  \n",
       "2        NaN        1.0  1103         0.0         0.0        4.17        0.00  \n",
       "3        NaN        NaN  2491         0.0         0.0        0.00        0.00  \n",
       "4        NaN        NaN  1526         0.0         0.0        0.00        0.00  \n",
       "\n",
       "[5 rows x 226 columns]"
      ]
     },
     "execution_count": 3,
     "metadata": {},
     "output_type": "execute_result"
    }
   ],
   "source": [
    "#head of dataset\n",
    "df.head()"
   ]
  },
  {
   "cell_type": "code",
   "execution_count": 4,
   "metadata": {},
   "outputs": [
    {
     "data": {
      "text/html": [
       "<div>\n",
       "<style scoped>\n",
       "    .dataframe tbody tr th:only-of-type {\n",
       "        vertical-align: middle;\n",
       "    }\n",
       "\n",
       "    .dataframe tbody tr th {\n",
       "        vertical-align: top;\n",
       "    }\n",
       "\n",
       "    .dataframe thead th {\n",
       "        text-align: right;\n",
       "    }\n",
       "</style>\n",
       "<table border=\"1\" class=\"dataframe\">\n",
       "  <thead>\n",
       "    <tr style=\"text-align: right;\">\n",
       "      <th></th>\n",
       "      <th>mobile_number</th>\n",
       "      <th>circle_id</th>\n",
       "      <th>loc_og_t2o_mou</th>\n",
       "      <th>std_og_t2o_mou</th>\n",
       "      <th>loc_ic_t2o_mou</th>\n",
       "      <th>arpu_6</th>\n",
       "      <th>arpu_7</th>\n",
       "      <th>arpu_8</th>\n",
       "      <th>arpu_9</th>\n",
       "      <th>onnet_mou_6</th>\n",
       "      <th>...</th>\n",
       "      <th>sachet_3g_9</th>\n",
       "      <th>fb_user_6</th>\n",
       "      <th>fb_user_7</th>\n",
       "      <th>fb_user_8</th>\n",
       "      <th>fb_user_9</th>\n",
       "      <th>aon</th>\n",
       "      <th>aug_vbc_3g</th>\n",
       "      <th>jul_vbc_3g</th>\n",
       "      <th>jun_vbc_3g</th>\n",
       "      <th>sep_vbc_3g</th>\n",
       "    </tr>\n",
       "  </thead>\n",
       "  <tbody>\n",
       "    <tr>\n",
       "      <th>count</th>\n",
       "      <td>9.999900e+04</td>\n",
       "      <td>99999.0</td>\n",
       "      <td>98981.0</td>\n",
       "      <td>98981.0</td>\n",
       "      <td>98981.0</td>\n",
       "      <td>99999.000000</td>\n",
       "      <td>99999.000000</td>\n",
       "      <td>99999.000000</td>\n",
       "      <td>99999.000000</td>\n",
       "      <td>96062.000000</td>\n",
       "      <td>...</td>\n",
       "      <td>99999.000000</td>\n",
       "      <td>25153.000000</td>\n",
       "      <td>25571.000000</td>\n",
       "      <td>26339.000000</td>\n",
       "      <td>25922.000000</td>\n",
       "      <td>99999.000000</td>\n",
       "      <td>99999.000000</td>\n",
       "      <td>99999.000000</td>\n",
       "      <td>99999.000000</td>\n",
       "      <td>99999.000000</td>\n",
       "    </tr>\n",
       "    <tr>\n",
       "      <th>mean</th>\n",
       "      <td>7.001207e+09</td>\n",
       "      <td>109.0</td>\n",
       "      <td>0.0</td>\n",
       "      <td>0.0</td>\n",
       "      <td>0.0</td>\n",
       "      <td>282.987358</td>\n",
       "      <td>278.536648</td>\n",
       "      <td>279.154731</td>\n",
       "      <td>261.645069</td>\n",
       "      <td>132.395875</td>\n",
       "      <td>...</td>\n",
       "      <td>0.084581</td>\n",
       "      <td>0.914404</td>\n",
       "      <td>0.908764</td>\n",
       "      <td>0.890808</td>\n",
       "      <td>0.860968</td>\n",
       "      <td>1219.854749</td>\n",
       "      <td>68.170248</td>\n",
       "      <td>66.839062</td>\n",
       "      <td>60.021204</td>\n",
       "      <td>3.299373</td>\n",
       "    </tr>\n",
       "    <tr>\n",
       "      <th>std</th>\n",
       "      <td>6.956694e+05</td>\n",
       "      <td>0.0</td>\n",
       "      <td>0.0</td>\n",
       "      <td>0.0</td>\n",
       "      <td>0.0</td>\n",
       "      <td>328.439770</td>\n",
       "      <td>338.156291</td>\n",
       "      <td>344.474791</td>\n",
       "      <td>341.998630</td>\n",
       "      <td>297.207406</td>\n",
       "      <td>...</td>\n",
       "      <td>0.650457</td>\n",
       "      <td>0.279772</td>\n",
       "      <td>0.287950</td>\n",
       "      <td>0.311885</td>\n",
       "      <td>0.345987</td>\n",
       "      <td>954.733842</td>\n",
       "      <td>267.580450</td>\n",
       "      <td>271.201856</td>\n",
       "      <td>253.938223</td>\n",
       "      <td>32.408353</td>\n",
       "    </tr>\n",
       "    <tr>\n",
       "      <th>min</th>\n",
       "      <td>7.000000e+09</td>\n",
       "      <td>109.0</td>\n",
       "      <td>0.0</td>\n",
       "      <td>0.0</td>\n",
       "      <td>0.0</td>\n",
       "      <td>-2258.709000</td>\n",
       "      <td>-2014.045000</td>\n",
       "      <td>-945.808000</td>\n",
       "      <td>-1899.505000</td>\n",
       "      <td>0.000000</td>\n",
       "      <td>...</td>\n",
       "      <td>0.000000</td>\n",
       "      <td>0.000000</td>\n",
       "      <td>0.000000</td>\n",
       "      <td>0.000000</td>\n",
       "      <td>0.000000</td>\n",
       "      <td>180.000000</td>\n",
       "      <td>0.000000</td>\n",
       "      <td>0.000000</td>\n",
       "      <td>0.000000</td>\n",
       "      <td>0.000000</td>\n",
       "    </tr>\n",
       "    <tr>\n",
       "      <th>25%</th>\n",
       "      <td>7.000606e+09</td>\n",
       "      <td>109.0</td>\n",
       "      <td>0.0</td>\n",
       "      <td>0.0</td>\n",
       "      <td>0.0</td>\n",
       "      <td>93.411500</td>\n",
       "      <td>86.980500</td>\n",
       "      <td>84.126000</td>\n",
       "      <td>62.685000</td>\n",
       "      <td>7.380000</td>\n",
       "      <td>...</td>\n",
       "      <td>0.000000</td>\n",
       "      <td>1.000000</td>\n",
       "      <td>1.000000</td>\n",
       "      <td>1.000000</td>\n",
       "      <td>1.000000</td>\n",
       "      <td>467.000000</td>\n",
       "      <td>0.000000</td>\n",
       "      <td>0.000000</td>\n",
       "      <td>0.000000</td>\n",
       "      <td>0.000000</td>\n",
       "    </tr>\n",
       "    <tr>\n",
       "      <th>50%</th>\n",
       "      <td>7.001205e+09</td>\n",
       "      <td>109.0</td>\n",
       "      <td>0.0</td>\n",
       "      <td>0.0</td>\n",
       "      <td>0.0</td>\n",
       "      <td>197.704000</td>\n",
       "      <td>191.640000</td>\n",
       "      <td>192.080000</td>\n",
       "      <td>176.849000</td>\n",
       "      <td>34.310000</td>\n",
       "      <td>...</td>\n",
       "      <td>0.000000</td>\n",
       "      <td>1.000000</td>\n",
       "      <td>1.000000</td>\n",
       "      <td>1.000000</td>\n",
       "      <td>1.000000</td>\n",
       "      <td>863.000000</td>\n",
       "      <td>0.000000</td>\n",
       "      <td>0.000000</td>\n",
       "      <td>0.000000</td>\n",
       "      <td>0.000000</td>\n",
       "    </tr>\n",
       "    <tr>\n",
       "      <th>75%</th>\n",
       "      <td>7.001812e+09</td>\n",
       "      <td>109.0</td>\n",
       "      <td>0.0</td>\n",
       "      <td>0.0</td>\n",
       "      <td>0.0</td>\n",
       "      <td>371.060000</td>\n",
       "      <td>365.344500</td>\n",
       "      <td>369.370500</td>\n",
       "      <td>353.466500</td>\n",
       "      <td>118.740000</td>\n",
       "      <td>...</td>\n",
       "      <td>0.000000</td>\n",
       "      <td>1.000000</td>\n",
       "      <td>1.000000</td>\n",
       "      <td>1.000000</td>\n",
       "      <td>1.000000</td>\n",
       "      <td>1807.500000</td>\n",
       "      <td>0.000000</td>\n",
       "      <td>0.000000</td>\n",
       "      <td>0.000000</td>\n",
       "      <td>0.000000</td>\n",
       "    </tr>\n",
       "    <tr>\n",
       "      <th>max</th>\n",
       "      <td>7.002411e+09</td>\n",
       "      <td>109.0</td>\n",
       "      <td>0.0</td>\n",
       "      <td>0.0</td>\n",
       "      <td>0.0</td>\n",
       "      <td>27731.088000</td>\n",
       "      <td>35145.834000</td>\n",
       "      <td>33543.624000</td>\n",
       "      <td>38805.617000</td>\n",
       "      <td>7376.710000</td>\n",
       "      <td>...</td>\n",
       "      <td>49.000000</td>\n",
       "      <td>1.000000</td>\n",
       "      <td>1.000000</td>\n",
       "      <td>1.000000</td>\n",
       "      <td>1.000000</td>\n",
       "      <td>4337.000000</td>\n",
       "      <td>12916.220000</td>\n",
       "      <td>9165.600000</td>\n",
       "      <td>11166.210000</td>\n",
       "      <td>2618.570000</td>\n",
       "    </tr>\n",
       "  </tbody>\n",
       "</table>\n",
       "<p>8 rows × 214 columns</p>\n",
       "</div>"
      ],
      "text/plain": [
       "       mobile_number  circle_id  loc_og_t2o_mou  std_og_t2o_mou  \\\n",
       "count   9.999900e+04    99999.0         98981.0         98981.0   \n",
       "mean    7.001207e+09      109.0             0.0             0.0   \n",
       "std     6.956694e+05        0.0             0.0             0.0   \n",
       "min     7.000000e+09      109.0             0.0             0.0   \n",
       "25%     7.000606e+09      109.0             0.0             0.0   \n",
       "50%     7.001205e+09      109.0             0.0             0.0   \n",
       "75%     7.001812e+09      109.0             0.0             0.0   \n",
       "max     7.002411e+09      109.0             0.0             0.0   \n",
       "\n",
       "       loc_ic_t2o_mou        arpu_6        arpu_7        arpu_8        arpu_9  \\\n",
       "count         98981.0  99999.000000  99999.000000  99999.000000  99999.000000   \n",
       "mean              0.0    282.987358    278.536648    279.154731    261.645069   \n",
       "std               0.0    328.439770    338.156291    344.474791    341.998630   \n",
       "min               0.0  -2258.709000  -2014.045000   -945.808000  -1899.505000   \n",
       "25%               0.0     93.411500     86.980500     84.126000     62.685000   \n",
       "50%               0.0    197.704000    191.640000    192.080000    176.849000   \n",
       "75%               0.0    371.060000    365.344500    369.370500    353.466500   \n",
       "max               0.0  27731.088000  35145.834000  33543.624000  38805.617000   \n",
       "\n",
       "        onnet_mou_6  ...   sachet_3g_9     fb_user_6     fb_user_7  \\\n",
       "count  96062.000000  ...  99999.000000  25153.000000  25571.000000   \n",
       "mean     132.395875  ...      0.084581      0.914404      0.908764   \n",
       "std      297.207406  ...      0.650457      0.279772      0.287950   \n",
       "min        0.000000  ...      0.000000      0.000000      0.000000   \n",
       "25%        7.380000  ...      0.000000      1.000000      1.000000   \n",
       "50%       34.310000  ...      0.000000      1.000000      1.000000   \n",
       "75%      118.740000  ...      0.000000      1.000000      1.000000   \n",
       "max     7376.710000  ...     49.000000      1.000000      1.000000   \n",
       "\n",
       "          fb_user_8     fb_user_9           aon    aug_vbc_3g    jul_vbc_3g  \\\n",
       "count  26339.000000  25922.000000  99999.000000  99999.000000  99999.000000   \n",
       "mean       0.890808      0.860968   1219.854749     68.170248     66.839062   \n",
       "std        0.311885      0.345987    954.733842    267.580450    271.201856   \n",
       "min        0.000000      0.000000    180.000000      0.000000      0.000000   \n",
       "25%        1.000000      1.000000    467.000000      0.000000      0.000000   \n",
       "50%        1.000000      1.000000    863.000000      0.000000      0.000000   \n",
       "75%        1.000000      1.000000   1807.500000      0.000000      0.000000   \n",
       "max        1.000000      1.000000   4337.000000  12916.220000   9165.600000   \n",
       "\n",
       "         jun_vbc_3g    sep_vbc_3g  \n",
       "count  99999.000000  99999.000000  \n",
       "mean      60.021204      3.299373  \n",
       "std      253.938223     32.408353  \n",
       "min        0.000000      0.000000  \n",
       "25%        0.000000      0.000000  \n",
       "50%        0.000000      0.000000  \n",
       "75%        0.000000      0.000000  \n",
       "max    11166.210000   2618.570000  \n",
       "\n",
       "[8 rows x 214 columns]"
      ]
     },
     "execution_count": 4,
     "metadata": {},
     "output_type": "execute_result"
    }
   ],
   "source": [
    "#statistical info of dataset\n",
    "df.describe()"
   ]
  },
  {
   "cell_type": "code",
   "execution_count": 5,
   "metadata": {
    "scrolled": false
   },
   "outputs": [
    {
     "name": "stdout",
     "output_type": "stream",
     "text": [
      "<class 'pandas.core.frame.DataFrame'>\n",
      "RangeIndex: 99999 entries, 0 to 99998\n",
      "Data columns (total 226 columns):\n",
      "mobile_number               int64\n",
      "circle_id                   int64\n",
      "loc_og_t2o_mou              float64\n",
      "std_og_t2o_mou              float64\n",
      "loc_ic_t2o_mou              float64\n",
      "last_date_of_month_6        object\n",
      "last_date_of_month_7        object\n",
      "last_date_of_month_8        object\n",
      "last_date_of_month_9        object\n",
      "arpu_6                      float64\n",
      "arpu_7                      float64\n",
      "arpu_8                      float64\n",
      "arpu_9                      float64\n",
      "onnet_mou_6                 float64\n",
      "onnet_mou_7                 float64\n",
      "onnet_mou_8                 float64\n",
      "onnet_mou_9                 float64\n",
      "offnet_mou_6                float64\n",
      "offnet_mou_7                float64\n",
      "offnet_mou_8                float64\n",
      "offnet_mou_9                float64\n",
      "roam_ic_mou_6               float64\n",
      "roam_ic_mou_7               float64\n",
      "roam_ic_mou_8               float64\n",
      "roam_ic_mou_9               float64\n",
      "roam_og_mou_6               float64\n",
      "roam_og_mou_7               float64\n",
      "roam_og_mou_8               float64\n",
      "roam_og_mou_9               float64\n",
      "loc_og_t2t_mou_6            float64\n",
      "loc_og_t2t_mou_7            float64\n",
      "loc_og_t2t_mou_8            float64\n",
      "loc_og_t2t_mou_9            float64\n",
      "loc_og_t2m_mou_6            float64\n",
      "loc_og_t2m_mou_7            float64\n",
      "loc_og_t2m_mou_8            float64\n",
      "loc_og_t2m_mou_9            float64\n",
      "loc_og_t2f_mou_6            float64\n",
      "loc_og_t2f_mou_7            float64\n",
      "loc_og_t2f_mou_8            float64\n",
      "loc_og_t2f_mou_9            float64\n",
      "loc_og_t2c_mou_6            float64\n",
      "loc_og_t2c_mou_7            float64\n",
      "loc_og_t2c_mou_8            float64\n",
      "loc_og_t2c_mou_9            float64\n",
      "loc_og_mou_6                float64\n",
      "loc_og_mou_7                float64\n",
      "loc_og_mou_8                float64\n",
      "loc_og_mou_9                float64\n",
      "std_og_t2t_mou_6            float64\n",
      "std_og_t2t_mou_7            float64\n",
      "std_og_t2t_mou_8            float64\n",
      "std_og_t2t_mou_9            float64\n",
      "std_og_t2m_mou_6            float64\n",
      "std_og_t2m_mou_7            float64\n",
      "std_og_t2m_mou_8            float64\n",
      "std_og_t2m_mou_9            float64\n",
      "std_og_t2f_mou_6            float64\n",
      "std_og_t2f_mou_7            float64\n",
      "std_og_t2f_mou_8            float64\n",
      "std_og_t2f_mou_9            float64\n",
      "std_og_t2c_mou_6            float64\n",
      "std_og_t2c_mou_7            float64\n",
      "std_og_t2c_mou_8            float64\n",
      "std_og_t2c_mou_9            float64\n",
      "std_og_mou_6                float64\n",
      "std_og_mou_7                float64\n",
      "std_og_mou_8                float64\n",
      "std_og_mou_9                float64\n",
      "isd_og_mou_6                float64\n",
      "isd_og_mou_7                float64\n",
      "isd_og_mou_8                float64\n",
      "isd_og_mou_9                float64\n",
      "spl_og_mou_6                float64\n",
      "spl_og_mou_7                float64\n",
      "spl_og_mou_8                float64\n",
      "spl_og_mou_9                float64\n",
      "og_others_6                 float64\n",
      "og_others_7                 float64\n",
      "og_others_8                 float64\n",
      "og_others_9                 float64\n",
      "total_og_mou_6              float64\n",
      "total_og_mou_7              float64\n",
      "total_og_mou_8              float64\n",
      "total_og_mou_9              float64\n",
      "loc_ic_t2t_mou_6            float64\n",
      "loc_ic_t2t_mou_7            float64\n",
      "loc_ic_t2t_mou_8            float64\n",
      "loc_ic_t2t_mou_9            float64\n",
      "loc_ic_t2m_mou_6            float64\n",
      "loc_ic_t2m_mou_7            float64\n",
      "loc_ic_t2m_mou_8            float64\n",
      "loc_ic_t2m_mou_9            float64\n",
      "loc_ic_t2f_mou_6            float64\n",
      "loc_ic_t2f_mou_7            float64\n",
      "loc_ic_t2f_mou_8            float64\n",
      "loc_ic_t2f_mou_9            float64\n",
      "loc_ic_mou_6                float64\n",
      "loc_ic_mou_7                float64\n",
      "loc_ic_mou_8                float64\n",
      "loc_ic_mou_9                float64\n",
      "std_ic_t2t_mou_6            float64\n",
      "std_ic_t2t_mou_7            float64\n",
      "std_ic_t2t_mou_8            float64\n",
      "std_ic_t2t_mou_9            float64\n",
      "std_ic_t2m_mou_6            float64\n",
      "std_ic_t2m_mou_7            float64\n",
      "std_ic_t2m_mou_8            float64\n",
      "std_ic_t2m_mou_9            float64\n",
      "std_ic_t2f_mou_6            float64\n",
      "std_ic_t2f_mou_7            float64\n",
      "std_ic_t2f_mou_8            float64\n",
      "std_ic_t2f_mou_9            float64\n",
      "std_ic_t2o_mou_6            float64\n",
      "std_ic_t2o_mou_7            float64\n",
      "std_ic_t2o_mou_8            float64\n",
      "std_ic_t2o_mou_9            float64\n",
      "std_ic_mou_6                float64\n",
      "std_ic_mou_7                float64\n",
      "std_ic_mou_8                float64\n",
      "std_ic_mou_9                float64\n",
      "total_ic_mou_6              float64\n",
      "total_ic_mou_7              float64\n",
      "total_ic_mou_8              float64\n",
      "total_ic_mou_9              float64\n",
      "spl_ic_mou_6                float64\n",
      "spl_ic_mou_7                float64\n",
      "spl_ic_mou_8                float64\n",
      "spl_ic_mou_9                float64\n",
      "isd_ic_mou_6                float64\n",
      "isd_ic_mou_7                float64\n",
      "isd_ic_mou_8                float64\n",
      "isd_ic_mou_9                float64\n",
      "ic_others_6                 float64\n",
      "ic_others_7                 float64\n",
      "ic_others_8                 float64\n",
      "ic_others_9                 float64\n",
      "total_rech_num_6            int64\n",
      "total_rech_num_7            int64\n",
      "total_rech_num_8            int64\n",
      "total_rech_num_9            int64\n",
      "total_rech_amt_6            int64\n",
      "total_rech_amt_7            int64\n",
      "total_rech_amt_8            int64\n",
      "total_rech_amt_9            int64\n",
      "max_rech_amt_6              int64\n",
      "max_rech_amt_7              int64\n",
      "max_rech_amt_8              int64\n",
      "max_rech_amt_9              int64\n",
      "date_of_last_rech_6         object\n",
      "date_of_last_rech_7         object\n",
      "date_of_last_rech_8         object\n",
      "date_of_last_rech_9         object\n",
      "last_day_rch_amt_6          int64\n",
      "last_day_rch_amt_7          int64\n",
      "last_day_rch_amt_8          int64\n",
      "last_day_rch_amt_9          int64\n",
      "date_of_last_rech_data_6    object\n",
      "date_of_last_rech_data_7    object\n",
      "date_of_last_rech_data_8    object\n",
      "date_of_last_rech_data_9    object\n",
      "total_rech_data_6           float64\n",
      "total_rech_data_7           float64\n",
      "total_rech_data_8           float64\n",
      "total_rech_data_9           float64\n",
      "max_rech_data_6             float64\n",
      "max_rech_data_7             float64\n",
      "max_rech_data_8             float64\n",
      "max_rech_data_9             float64\n",
      "count_rech_2g_6             float64\n",
      "count_rech_2g_7             float64\n",
      "count_rech_2g_8             float64\n",
      "count_rech_2g_9             float64\n",
      "count_rech_3g_6             float64\n",
      "count_rech_3g_7             float64\n",
      "count_rech_3g_8             float64\n",
      "count_rech_3g_9             float64\n",
      "av_rech_amt_data_6          float64\n",
      "av_rech_amt_data_7          float64\n",
      "av_rech_amt_data_8          float64\n",
      "av_rech_amt_data_9          float64\n",
      "vol_2g_mb_6                 float64\n",
      "vol_2g_mb_7                 float64\n",
      "vol_2g_mb_8                 float64\n",
      "vol_2g_mb_9                 float64\n",
      "vol_3g_mb_6                 float64\n",
      "vol_3g_mb_7                 float64\n",
      "vol_3g_mb_8                 float64\n",
      "vol_3g_mb_9                 float64\n",
      "arpu_3g_6                   float64\n",
      "arpu_3g_7                   float64\n",
      "arpu_3g_8                   float64\n",
      "arpu_3g_9                   float64\n",
      "arpu_2g_6                   float64\n",
      "arpu_2g_7                   float64\n",
      "arpu_2g_8                   float64\n",
      "arpu_2g_9                   float64\n",
      "night_pck_user_6            float64\n",
      "night_pck_user_7            float64\n",
      "night_pck_user_8            float64\n",
      "night_pck_user_9            float64\n",
      "monthly_2g_6                int64\n",
      "monthly_2g_7                int64\n",
      "monthly_2g_8                int64\n",
      "monthly_2g_9                int64\n",
      "sachet_2g_6                 int64\n",
      "sachet_2g_7                 int64\n",
      "sachet_2g_8                 int64\n",
      "sachet_2g_9                 int64\n",
      "monthly_3g_6                int64\n",
      "monthly_3g_7                int64\n",
      "monthly_3g_8                int64\n",
      "monthly_3g_9                int64\n",
      "sachet_3g_6                 int64\n",
      "sachet_3g_7                 int64\n",
      "sachet_3g_8                 int64\n",
      "sachet_3g_9                 int64\n",
      "fb_user_6                   float64\n",
      "fb_user_7                   float64\n",
      "fb_user_8                   float64\n",
      "fb_user_9                   float64\n",
      "aon                         int64\n",
      "aug_vbc_3g                  float64\n",
      "jul_vbc_3g                  float64\n",
      "jun_vbc_3g                  float64\n",
      "sep_vbc_3g                  float64\n",
      "dtypes: float64(179), int64(35), object(12)\n",
      "memory usage: 172.4+ MB\n"
     ]
    }
   ],
   "source": [
    "#dataset info\n",
    "df.info(verbose=1)"
   ]
  },
  {
   "cell_type": "code",
   "execution_count": 6,
   "metadata": {},
   "outputs": [
    {
     "data": {
      "text/plain": [
       "(99999, 226)"
      ]
     },
     "execution_count": 6,
     "metadata": {},
     "output_type": "execute_result"
    }
   ],
   "source": [
    "#no. of rows and colums of dataset\n",
    "df.shape"
   ]
  },
  {
   "cell_type": "markdown",
   "metadata": {},
   "source": [
    "## Scrapping the dataset"
   ]
  },
  {
   "cell_type": "markdown",
   "metadata": {},
   "source": [
    "`Inference`\n",
    "\n",
    "1. circle_id - contains unique value in entire column\n",
    "2. mobile number - which contains mobile number of subscribers \n",
    "3. Date columns - which gives info about the date when the customer recharged etc.\n",
    "\n",
    "*The above data will not be useful for our analysis. So, will drop them*"
   ]
  },
  {
   "cell_type": "code",
   "execution_count": 7,
   "metadata": {},
   "outputs": [],
   "source": [
    "#Removing ID, mobile number and Date columns\n",
    "df_filtered=df.drop(['mobile_number',\n",
    " 'circle_id',\n",
    " 'last_date_of_month_6',\n",
    " 'last_date_of_month_7',\n",
    " 'last_date_of_month_8',\n",
    " 'last_date_of_month_9',\n",
    " 'date_of_last_rech_6',\n",
    " 'date_of_last_rech_7',\n",
    " 'date_of_last_rech_8',\n",
    " 'date_of_last_rech_9',\n",
    " 'date_of_last_rech_data_6',\n",
    " 'date_of_last_rech_data_7',\n",
    " 'date_of_last_rech_data_8',\n",
    " 'date_of_last_rech_data_9'], axis=1)"
   ]
  },
  {
   "cell_type": "code",
   "execution_count": 8,
   "metadata": {},
   "outputs": [
    {
     "data": {
      "text/plain": [
       "(99999, 212)"
      ]
     },
     "execution_count": 8,
     "metadata": {},
     "output_type": "execute_result"
    }
   ],
   "source": [
    "#checking the shape of dataset after dropping the columns\n",
    "df_filtered.shape"
   ]
  },
  {
   "cell_type": "code",
   "execution_count": 9,
   "metadata": {},
   "outputs": [],
   "source": [
    "# Defining the Categorical columns in the dataset\n",
    "categorical_column=['night_pck_user_6','night_pck_user_7','night_pck_user_8','night_pck_user_9','fb_user_6',\n",
    "                    'fb_user_7','fb_user_8','fb_user_9']\n",
    "\n",
    "# Defining the Numerical columns in the dataset\n",
    "numerical_column=set(df_filtered.columns) - set(categorical_column)"
   ]
  },
  {
   "cell_type": "code",
   "execution_count": 10,
   "metadata": {
    "scrolled": false
   },
   "outputs": [
    {
     "data": {
      "text/plain": [
       "arpu_2g_6             74.846748\n",
       "max_rech_data_6       74.846748\n",
       "count_rech_3g_6       74.846748\n",
       "night_pck_user_6      74.846748\n",
       "fb_user_6             74.846748\n",
       "total_rech_data_6     74.846748\n",
       "count_rech_2g_6       74.846748\n",
       "arpu_3g_6             74.846748\n",
       "av_rech_amt_data_6    74.846748\n",
       "av_rech_amt_data_7    74.428744\n",
       "max_rech_data_7       74.428744\n",
       "night_pck_user_7      74.428744\n",
       "total_rech_data_7     74.428744\n",
       "arpu_2g_7             74.428744\n",
       "arpu_3g_7             74.428744\n",
       "count_rech_2g_7       74.428744\n",
       "fb_user_7             74.428744\n",
       "count_rech_3g_7       74.428744\n",
       "arpu_3g_9             74.077741\n",
       "arpu_2g_9             74.077741\n",
       "count_rech_2g_9       74.077741\n",
       "count_rech_3g_9       74.077741\n",
       "av_rech_amt_data_9    74.077741\n",
       "night_pck_user_9      74.077741\n",
       "max_rech_data_9       74.077741\n",
       "total_rech_data_9     74.077741\n",
       "fb_user_9             74.077741\n",
       "max_rech_data_8       73.660737\n",
       "count_rech_2g_8       73.660737\n",
       "total_rech_data_8     73.660737\n",
       "                        ...    \n",
       "vol_3g_mb_7            0.000000\n",
       "vol_2g_mb_9            0.000000\n",
       "total_og_mou_7         0.000000\n",
       "vol_2g_mb_8            0.000000\n",
       "total_og_mou_8         0.000000\n",
       "total_og_mou_9         0.000000\n",
       "jun_vbc_3g             0.000000\n",
       "total_ic_mou_6         0.000000\n",
       "total_ic_mou_7         0.000000\n",
       "total_ic_mou_8         0.000000\n",
       "total_ic_mou_9         0.000000\n",
       "total_rech_num_6       0.000000\n",
       "total_rech_num_7       0.000000\n",
       "total_rech_num_8       0.000000\n",
       "total_rech_num_9       0.000000\n",
       "total_rech_amt_6       0.000000\n",
       "total_rech_amt_7       0.000000\n",
       "total_rech_amt_8       0.000000\n",
       "total_rech_amt_9       0.000000\n",
       "max_rech_amt_6         0.000000\n",
       "max_rech_amt_7         0.000000\n",
       "max_rech_amt_8         0.000000\n",
       "max_rech_amt_9         0.000000\n",
       "last_day_rch_amt_6     0.000000\n",
       "last_day_rch_amt_7     0.000000\n",
       "last_day_rch_amt_8     0.000000\n",
       "last_day_rch_amt_9     0.000000\n",
       "vol_2g_mb_6            0.000000\n",
       "vol_2g_mb_7            0.000000\n",
       "sep_vbc_3g             0.000000\n",
       "Length: 212, dtype: float64"
      ]
     },
     "execution_count": 10,
     "metadata": {},
     "output_type": "execute_result"
    }
   ],
   "source": [
    "#chekcing the null values in the dataset\n",
    "((df_filtered.isnull().sum()/len(df_filtered))*100).sort_values(ascending = False)"
   ]
  },
  {
   "cell_type": "markdown",
   "metadata": {},
   "source": [
    "`Inference`\n",
    "\n",
    "*We notice there are columns which provides the information about the recharge of the subscribers. Those columns have null values and we can safely assume that the blanks are zero as the subscriber dint recharge*\n",
    "\n",
    "*So will impute those columns with zero*"
   ]
  },
  {
   "cell_type": "code",
   "execution_count": 11,
   "metadata": {},
   "outputs": [],
   "source": [
    "# create a list of recharge columns where we will impute missing values with zeroes\n",
    "impute_specific_recharge_col = ['total_rech_data_6', 'total_rech_data_7', 'total_rech_data_8', 'total_rech_data_9',\n",
    "        'av_rech_amt_data_6', 'av_rech_amt_data_7', 'av_rech_amt_data_8', 'av_rech_amt_data_9',\n",
    "        'max_rech_data_6', 'max_rech_data_7', 'max_rech_data_8', 'max_rech_data_9']"
   ]
  },
  {
   "cell_type": "code",
   "execution_count": 12,
   "metadata": {},
   "outputs": [],
   "source": [
    "# impute missing values with 0\n",
    "df_filtered[impute_specific_recharge_col] = df_filtered[impute_specific_recharge_col].apply(lambda x: x.fillna(0))"
   ]
  },
  {
   "cell_type": "markdown",
   "metadata": {},
   "source": [
    "`Inference`\n",
    "\n",
    "*There are categorical columns with null values / blank and will impute them with ‘-1’ where the -1 will be a new category in the column*"
   ]
  },
  {
   "cell_type": "code",
   "execution_count": 13,
   "metadata": {},
   "outputs": [],
   "source": [
    "# replace missing values with '-1' in categorical columns\n",
    "df_filtered[categorical_column] = df_filtered[categorical_column].apply(lambda x: x.fillna(-1))"
   ]
  },
  {
   "cell_type": "code",
   "execution_count": 14,
   "metadata": {},
   "outputs": [
    {
     "data": {
      "text/plain": [
       "arpu_2g_6             74.846748\n",
       "count_rech_2g_6       74.846748\n",
       "arpu_3g_6             74.846748\n",
       "count_rech_3g_6       74.846748\n",
       "arpu_2g_7             74.428744\n",
       "count_rech_2g_7       74.428744\n",
       "arpu_3g_7             74.428744\n",
       "count_rech_3g_7       74.428744\n",
       "count_rech_3g_9       74.077741\n",
       "arpu_3g_9             74.077741\n",
       "arpu_2g_9             74.077741\n",
       "count_rech_2g_9       74.077741\n",
       "count_rech_3g_8       73.660737\n",
       "count_rech_2g_8       73.660737\n",
       "arpu_3g_8             73.660737\n",
       "arpu_2g_8             73.660737\n",
       "std_og_t2c_mou_9       7.745077\n",
       "spl_ic_mou_9           7.745077\n",
       "std_og_mou_9           7.745077\n",
       "loc_og_t2c_mou_9       7.745077\n",
       "isd_og_mou_9           7.745077\n",
       "ic_others_9            7.745077\n",
       "loc_og_t2f_mou_9       7.745077\n",
       "isd_ic_mou_9           7.745077\n",
       "og_others_9            7.745077\n",
       "std_og_t2t_mou_9       7.745077\n",
       "loc_og_mou_9           7.745077\n",
       "std_og_t2f_mou_9       7.745077\n",
       "loc_og_t2m_mou_9       7.745077\n",
       "std_ic_t2f_mou_9       7.745077\n",
       "                        ...    \n",
       "total_rech_num_8       0.000000\n",
       "total_rech_num_6       0.000000\n",
       "vol_2g_mb_6            0.000000\n",
       "total_ic_mou_9         0.000000\n",
       "total_ic_mou_8         0.000000\n",
       "total_ic_mou_7         0.000000\n",
       "total_ic_mou_6         0.000000\n",
       "jun_vbc_3g             0.000000\n",
       "total_og_mou_9         0.000000\n",
       "total_og_mou_8         0.000000\n",
       "max_rech_amt_7         0.000000\n",
       "max_rech_amt_8         0.000000\n",
       "max_rech_amt_9         0.000000\n",
       "last_day_rch_amt_6     0.000000\n",
       "av_rech_amt_data_9     0.000000\n",
       "av_rech_amt_data_8     0.000000\n",
       "av_rech_amt_data_7     0.000000\n",
       "av_rech_amt_data_6     0.000000\n",
       "max_rech_data_9        0.000000\n",
       "max_rech_data_8        0.000000\n",
       "max_rech_data_7        0.000000\n",
       "max_rech_data_6        0.000000\n",
       "total_rech_data_9      0.000000\n",
       "total_rech_data_8      0.000000\n",
       "total_rech_data_7      0.000000\n",
       "total_rech_data_6      0.000000\n",
       "last_day_rch_amt_9     0.000000\n",
       "last_day_rch_amt_8     0.000000\n",
       "last_day_rch_amt_7     0.000000\n",
       "sep_vbc_3g             0.000000\n",
       "Length: 212, dtype: float64"
      ]
     },
     "execution_count": 14,
     "metadata": {},
     "output_type": "execute_result"
    }
   ],
   "source": [
    "((df_filtered.isnull().sum()/len(df_filtered))*100).sort_values(ascending = False)"
   ]
  },
  {
   "cell_type": "markdown",
   "metadata": {},
   "source": [
    "`Inference`\n",
    "\n",
    "*As we see there are coluns with greater than 70% null values, will drop those columns*"
   ]
  },
  {
   "cell_type": "code",
   "execution_count": 15,
   "metadata": {},
   "outputs": [],
   "source": [
    "#Filtering record which is having less than 70% of null vlue\n",
    "df_filtered=df_filtered[df_filtered.columns[df_filtered.isnull().mean() < 0.7]]"
   ]
  },
  {
   "cell_type": "code",
   "execution_count": 16,
   "metadata": {},
   "outputs": [
    {
     "data": {
      "text/plain": [
       "std_og_mou_9          7.745077\n",
       "ic_others_9           7.745077\n",
       "std_ic_mou_9          7.745077\n",
       "spl_og_mou_9          7.745077\n",
       "loc_og_t2m_mou_9      7.745077\n",
       "spl_ic_mou_9          7.745077\n",
       "isd_ic_mou_9          7.745077\n",
       "loc_og_t2f_mou_9      7.745077\n",
       "isd_og_mou_9          7.745077\n",
       "roam_og_mou_9         7.745077\n",
       "loc_og_t2c_mou_9      7.745077\n",
       "og_others_9           7.745077\n",
       "loc_og_mou_9          7.745077\n",
       "std_og_t2c_mou_9      7.745077\n",
       "std_og_t2f_mou_9      7.745077\n",
       "std_og_t2t_mou_9      7.745077\n",
       "std_ic_t2o_mou_9      7.745077\n",
       "loc_og_t2t_mou_9      7.745077\n",
       "std_og_t2m_mou_9      7.745077\n",
       "std_ic_t2t_mou_9      7.745077\n",
       "loc_ic_t2f_mou_9      7.745077\n",
       "std_ic_t2f_mou_9      7.745077\n",
       "loc_ic_mou_9          7.745077\n",
       "offnet_mou_9          7.745077\n",
       "loc_ic_t2m_mou_9      7.745077\n",
       "std_ic_t2m_mou_9      7.745077\n",
       "loc_ic_t2t_mou_9      7.745077\n",
       "roam_ic_mou_9         7.745077\n",
       "onnet_mou_9           7.745077\n",
       "std_og_t2c_mou_8      5.378054\n",
       "                        ...   \n",
       "total_rech_num_8      0.000000\n",
       "total_rech_num_6      0.000000\n",
       "vol_2g_mb_6           0.000000\n",
       "total_ic_mou_9        0.000000\n",
       "total_ic_mou_8        0.000000\n",
       "total_ic_mou_7        0.000000\n",
       "total_ic_mou_6        0.000000\n",
       "jun_vbc_3g            0.000000\n",
       "total_og_mou_9        0.000000\n",
       "total_og_mou_8        0.000000\n",
       "max_rech_amt_7        0.000000\n",
       "max_rech_amt_8        0.000000\n",
       "max_rech_amt_9        0.000000\n",
       "last_day_rch_amt_6    0.000000\n",
       "av_rech_amt_data_9    0.000000\n",
       "av_rech_amt_data_8    0.000000\n",
       "av_rech_amt_data_7    0.000000\n",
       "av_rech_amt_data_6    0.000000\n",
       "max_rech_data_9       0.000000\n",
       "max_rech_data_8       0.000000\n",
       "max_rech_data_7       0.000000\n",
       "max_rech_data_6       0.000000\n",
       "total_rech_data_9     0.000000\n",
       "total_rech_data_8     0.000000\n",
       "total_rech_data_7     0.000000\n",
       "total_rech_data_6     0.000000\n",
       "last_day_rch_amt_9    0.000000\n",
       "last_day_rch_amt_8    0.000000\n",
       "last_day_rch_amt_7    0.000000\n",
       "sep_vbc_3g            0.000000\n",
       "Length: 196, dtype: float64"
      ]
     },
     "execution_count": 16,
     "metadata": {},
     "output_type": "execute_result"
    }
   ],
   "source": [
    "((df_filtered.isnull().sum()/len(df_filtered))*100).sort_values(ascending = False)"
   ]
  },
  {
   "cell_type": "markdown",
   "metadata": {},
   "source": [
    "`Inference`\n",
    "\n",
    "*After dropping the columns with >70% null values, we are left with columns which has 7.7% null values. As it is system generated data of the subscriber of the telecom company, we can safely assume that any null values or the blank cells aren’t used by the subscriber*\n",
    "\n",
    "*For example, if the 2g or 3g data usage column has null values, that mean subscriber dint use the service. Hence Will impute the remaining null / blank cells with zero*"
   ]
  },
  {
   "cell_type": "code",
   "execution_count": 17,
   "metadata": {},
   "outputs": [],
   "source": [
    "# impute numerical datatype missing values with 0\n",
    "df_filtered = df_filtered.apply(lambda x: x.fillna(0))"
   ]
  },
  {
   "cell_type": "code",
   "execution_count": 18,
   "metadata": {},
   "outputs": [
    {
     "data": {
      "text/plain": [
       "sep_vbc_3g            0.0\n",
       "og_others_7           0.0\n",
       "spl_og_mou_9          0.0\n",
       "spl_og_mou_8          0.0\n",
       "spl_og_mou_7          0.0\n",
       "spl_og_mou_6          0.0\n",
       "isd_og_mou_9          0.0\n",
       "isd_og_mou_8          0.0\n",
       "isd_og_mou_7          0.0\n",
       "isd_og_mou_6          0.0\n",
       "std_og_mou_9          0.0\n",
       "std_og_mou_8          0.0\n",
       "std_og_mou_7          0.0\n",
       "std_og_mou_6          0.0\n",
       "std_og_t2c_mou_9      0.0\n",
       "std_og_t2c_mou_8      0.0\n",
       "std_og_t2c_mou_7      0.0\n",
       "std_og_t2c_mou_6      0.0\n",
       "std_og_t2f_mou_9      0.0\n",
       "std_og_t2f_mou_8      0.0\n",
       "std_og_t2f_mou_7      0.0\n",
       "std_og_t2f_mou_6      0.0\n",
       "std_og_t2m_mou_9      0.0\n",
       "og_others_6           0.0\n",
       "og_others_8           0.0\n",
       "jun_vbc_3g            0.0\n",
       "og_others_9           0.0\n",
       "std_ic_t2t_mou_6      0.0\n",
       "loc_ic_mou_9          0.0\n",
       "loc_ic_mou_8          0.0\n",
       "                     ... \n",
       "std_ic_t2f_mou_7      0.0\n",
       "std_ic_t2f_mou_6      0.0\n",
       "std_ic_t2m_mou_9      0.0\n",
       "std_ic_t2m_mou_8      0.0\n",
       "std_ic_t2m_mou_7      0.0\n",
       "spl_ic_mou_8          0.0\n",
       "spl_ic_mou_9          0.0\n",
       "isd_ic_mou_6          0.0\n",
       "total_rech_amt_6      0.0\n",
       "last_day_rch_amt_7    0.0\n",
       "last_day_rch_amt_6    0.0\n",
       "max_rech_amt_9        0.0\n",
       "max_rech_amt_8        0.0\n",
       "max_rech_amt_7        0.0\n",
       "max_rech_amt_6        0.0\n",
       "total_rech_amt_9      0.0\n",
       "total_rech_amt_8      0.0\n",
       "total_rech_amt_7      0.0\n",
       "total_rech_num_9      0.0\n",
       "isd_ic_mou_7          0.0\n",
       "total_rech_num_8      0.0\n",
       "total_rech_num_7      0.0\n",
       "total_rech_num_6      0.0\n",
       "ic_others_9           0.0\n",
       "ic_others_8           0.0\n",
       "ic_others_7           0.0\n",
       "ic_others_6           0.0\n",
       "isd_ic_mou_9          0.0\n",
       "isd_ic_mou_8          0.0\n",
       "loc_og_t2o_mou        0.0\n",
       "Length: 196, dtype: float64"
      ]
     },
     "execution_count": 18,
     "metadata": {},
     "output_type": "execute_result"
    }
   ],
   "source": [
    "#chekcing the null values after imputing\n",
    "((df_filtered.isnull().sum()/len(df_filtered))*100).sort_values(ascending = False)"
   ]
  },
  {
   "cell_type": "markdown",
   "metadata": {},
   "source": [
    "`Inference`\n",
    "\n",
    "*We got the dataset without any null / blank cells*\n",
    "\n",
    "*Now will try to find the columns which has unique values in the entire column and will try to remove them as they don’t add any significant value to the model*"
   ]
  },
  {
   "cell_type": "code",
   "execution_count": 19,
   "metadata": {
    "scrolled": false
   },
   "outputs": [
    {
     "name": "stdout",
     "output_type": "stream",
     "text": [
      "loc_og_t2o_mou\n",
      "std_og_t2o_mou\n",
      "loc_ic_t2o_mou\n",
      "std_og_t2c_mou_6\n",
      "std_og_t2c_mou_7\n",
      "std_og_t2c_mou_8\n",
      "std_og_t2c_mou_9\n",
      "std_ic_t2o_mou_6\n",
      "std_ic_t2o_mou_7\n",
      "std_ic_t2o_mou_8\n",
      "std_ic_t2o_mou_9\n"
     ]
    }
   ],
   "source": [
    "#Finding the column where we have only one unique value\n",
    "for x in df_filtered:\n",
    "    if len(df_filtered[x].unique())==1:\n",
    "        print(x)"
   ]
  },
  {
   "cell_type": "code",
   "execution_count": 20,
   "metadata": {},
   "outputs": [],
   "source": [
    "#Creating list on unique value column to drop it\n",
    "unique_col=['loc_og_t2o_mou',\n",
    "'std_og_t2o_mou',\n",
    "'loc_ic_t2o_mou',\n",
    "'std_og_t2c_mou_6',\n",
    "'std_og_t2c_mou_7',\n",
    "'std_og_t2c_mou_8',\n",
    "'std_og_t2c_mou_9',\n",
    "'std_ic_t2o_mou_6',\n",
    "'std_ic_t2o_mou_7',\n",
    "'std_ic_t2o_mou_8',\n",
    "'std_ic_t2o_mou_9']"
   ]
  },
  {
   "cell_type": "code",
   "execution_count": 21,
   "metadata": {},
   "outputs": [],
   "source": [
    "# Dropping all the unique value column\n",
    "churn=df_filtered.drop(unique_col,axis=1)"
   ]
  },
  {
   "cell_type": "code",
   "execution_count": 22,
   "metadata": {
    "scrolled": false
   },
   "outputs": [],
   "source": [
    "# Checking for unique value column\n",
    "#for x in churn:\n",
    "#    if len(churn[x].unique())==1:\n",
    "#        print('Yes')"
   ]
  },
  {
   "cell_type": "markdown",
   "metadata": {},
   "source": [
    "### Deriving a new variable \n",
    "\n",
    "*creating a column which gives us the average recharge of the subscriber for the month of 6 and 7*"
   ]
  },
  {
   "cell_type": "code",
   "execution_count": 23,
   "metadata": {},
   "outputs": [],
   "source": [
    "# calculate the total data recharge amount for June and July --> number of recharges * average recharge amount\n",
    "churn['total_data_rech_6'] = churn.total_rech_data_6 * churn.av_rech_amt_data_6\n",
    "churn['total_data_rech_7'] = churn.total_rech_data_7 * churn.av_rech_amt_data_7"
   ]
  },
  {
   "cell_type": "code",
   "execution_count": 24,
   "metadata": {},
   "outputs": [],
   "source": [
    "# calculate total recharge amount for June and July --> call recharge amount + data recharge amount\n",
    "churn['amt_data_6'] = churn.total_rech_amt_6 + churn.total_data_rech_6\n",
    "churn['amt_data_7'] = churn.total_rech_amt_7 + churn.total_data_rech_7"
   ]
  },
  {
   "cell_type": "code",
   "execution_count": 25,
   "metadata": {},
   "outputs": [],
   "source": [
    "# calculate average recharge done by customer in June and July\n",
    "churn['avg_amt_data_6_7'] = (churn.amt_data_6 + churn.amt_data_7)/2"
   ]
  },
  {
   "cell_type": "markdown",
   "metadata": {},
   "source": [
    "*Will find out the 70% percentile as we need to filter high values customer based on it*"
   ]
  },
  {
   "cell_type": "code",
   "execution_count": 26,
   "metadata": {
    "scrolled": true
   },
   "outputs": [
    {
     "name": "stdout",
     "output_type": "stream",
     "text": [
      "Recharge amount at 70th percentile: 478.0\n"
     ]
    }
   ],
   "source": [
    "# look at the 70th percentile recharge amount\n",
    "print(\"Recharge amount at 70th percentile: {0}\".format(churn.avg_amt_data_6_7.quantile(0.7)))"
   ]
  },
  {
   "cell_type": "markdown",
   "metadata": {},
   "source": [
    "*Filtering out the high value customer based on 70% percentile / 487*"
   ]
  },
  {
   "cell_type": "code",
   "execution_count": 27,
   "metadata": {},
   "outputs": [
    {
     "data": {
      "text/plain": [
       "(30001, 190)"
      ]
     },
     "execution_count": 27,
     "metadata": {},
     "output_type": "execute_result"
    }
   ],
   "source": [
    " #retain only those customers who have recharged their mobiles with more than or equal to 70th percentile amount\n",
    "df_high_val = churn.loc[churn.avg_amt_data_6_7 >= churn.avg_amt_data_6_7.quantile(0.7), :]\n",
    "df_high_val = df_high_val.reset_index(drop=True)\n",
    "df_high_val.shape"
   ]
  },
  {
   "cell_type": "markdown",
   "metadata": {},
   "source": [
    "`Inference`\n",
    "\n",
    "*We see that after filtering out, we are ending up with 30001 rows whereas as per the problem statement we must have 29.9K rows. So instead of filtering out directly based on the 70th percentile number, will use 'qcut' option in pandas*\n",
    "\n",
    "*`qcut` basically means that qcut tries to divide up the underlying data into equal sized bins. The function defines the bins using percentiles based on the distribution of the data, not the actual numeric edges of the bins*"
   ]
  },
  {
   "cell_type": "code",
   "execution_count": 28,
   "metadata": {},
   "outputs": [],
   "source": [
    "#Performing the qcut on the churn.avg_rech_amt_6_7 column by creaitng \n",
    "#10 bins (aka deciles) and store the results back in the original dataframe\n",
    "churn['avg_rech_decile'] = pd.qcut(churn['avg_amt_data_6_7'], 10, labels=False)"
   ]
  },
  {
   "cell_type": "code",
   "execution_count": 29,
   "metadata": {},
   "outputs": [],
   "source": [
    "#Filtering out the customers belonging to 70 percentile and above\n",
    "High_Value_Customer = churn[churn.avg_rech_decile >= 7 ]"
   ]
  },
  {
   "cell_type": "code",
   "execution_count": 30,
   "metadata": {},
   "outputs": [
    {
     "data": {
      "text/plain": [
       "(29953, 191)"
      ]
     },
     "execution_count": 30,
     "metadata": {},
     "output_type": "execute_result"
    }
   ],
   "source": [
    "#Checking out number of unique customers\n",
    "High_Value_Customer.shape"
   ]
  },
  {
   "cell_type": "markdown",
   "metadata": {},
   "source": [
    "`Inference`\n",
    "\n",
    "*Now we got 29.9k rows after filtering out for high-value customers*"
   ]
  },
  {
   "cell_type": "code",
   "execution_count": 31,
   "metadata": {
    "colab": {},
    "colab_type": "code",
    "id": "lkA34pMmquiP"
   },
   "outputs": [],
   "source": [
    "# calculate total incoming and outgoing minutes of usage\n",
    "High_Value_Customer['total_calls_mou_9'] = High_Value_Customer.total_ic_mou_9 + High_Value_Customer.total_og_mou_9"
   ]
  },
  {
   "cell_type": "code",
   "execution_count": 32,
   "metadata": {
    "colab": {},
    "colab_type": "code",
    "id": "RZ-ZXxazquiR"
   },
   "outputs": [],
   "source": [
    "# calculate 2g and 3g data consumption\n",
    "High_Value_Customer['total_internet_mb_9'] =  High_Value_Customer.vol_2g_mb_9 + High_Value_Customer.vol_3g_mb_9"
   ]
  },
  {
   "cell_type": "code",
   "execution_count": 33,
   "metadata": {
    "colab": {},
    "colab_type": "code",
    "id": "FgGLXwMYquiV"
   },
   "outputs": [],
   "source": [
    "# create churn variable: those who have not used either calls or internet in the month of September are customers who have \n",
    "#churned 0 - not churn, 1 - churn\n",
    "High_Value_Customer['churn'] = High_Value_Customer.apply(lambda row: 1 if (row.total_calls_mou_9 == \n",
    "                                                                           0 and row.total_internet_mb_9 == 0) else 0, axis=1)"
   ]
  },
  {
   "cell_type": "code",
   "execution_count": 34,
   "metadata": {
    "colab": {},
    "colab_type": "code",
    "id": "II1fZCMequiX"
   },
   "outputs": [],
   "source": [
    "# delete derived variables\n",
    "High_Value_Customer = High_Value_Customer.drop(['total_calls_mou_9', 'total_internet_mb_9'], axis=1)"
   ]
  },
  {
   "cell_type": "code",
   "execution_count": 35,
   "metadata": {
    "colab": {},
    "colab_type": "code",
    "id": "C7Z0fDUfquiY",
    "outputId": "c8d92747-eb4c-4d01-b319-347a319c0cd6"
   },
   "outputs": [
    {
     "name": "stdout",
     "output_type": "stream",
     "text": [
      "Churn Ratio:\n",
      "0    91.877274\n",
      "1     8.122726\n",
      "Name: churn, dtype: float64\n"
     ]
    }
   ],
   "source": [
    "# change data type to category\n",
    "High_Value_Customer.churn = High_Value_Customer.churn.astype(\"category\")\n",
    "\n",
    "# print churn ratio\n",
    "print(\"Churn Ratio:\")\n",
    "print(High_Value_Customer.churn.value_counts()*100/High_Value_Customer.shape[0])"
   ]
  },
  {
   "cell_type": "markdown",
   "metadata": {
    "colab_type": "text",
    "id": "nm5kzaGrquib"
   },
   "source": [
    "*Will try to find out / find the patter of difference between Aug and Jun + jug which may give us some valuable insight*"
   ]
  },
  {
   "cell_type": "code",
   "execution_count": 36,
   "metadata": {
    "colab": {},
    "colab_type": "code",
    "id": "WjYQqa2Qquic"
   },
   "outputs": [],
   "source": [
    "High_Value_Customer['arpu_diff'] = High_Value_Customer.arpu_8 - ((High_Value_Customer.arpu_6 + High_Value_Customer.arpu_7)/2)\n",
    "\n",
    "High_Value_Customer['onnet_mou_diff'] = High_Value_Customer.onnet_mou_8 - ((High_Value_Customer.onnet_mou_6 + High_Value_Customer.onnet_mou_7)/2)\n",
    "\n",
    "High_Value_Customer['offnet_mou_diff'] = High_Value_Customer.offnet_mou_8 - ((High_Value_Customer.offnet_mou_6 + High_Value_Customer.offnet_mou_7)/2)\n",
    "\n",
    "High_Value_Customer['roam_ic_mou_diff'] = High_Value_Customer.roam_ic_mou_8 - ((High_Value_Customer.roam_ic_mou_6 + High_Value_Customer.roam_ic_mou_7)/2)\n",
    "\n",
    "High_Value_Customer['roam_og_mou_diff'] = High_Value_Customer.roam_og_mou_8 - ((High_Value_Customer.roam_og_mou_6 + High_Value_Customer.roam_og_mou_7)/2)\n",
    "\n",
    "High_Value_Customer['loc_og_mou_diff'] = High_Value_Customer.loc_og_mou_8 - ((High_Value_Customer.loc_og_mou_6 + High_Value_Customer.loc_og_mou_7)/2)\n",
    "\n",
    "High_Value_Customer['std_og_mou_diff'] = High_Value_Customer.std_og_mou_8 - ((High_Value_Customer.std_og_mou_6 + High_Value_Customer.std_og_mou_7)/2)\n",
    "\n",
    "High_Value_Customer['isd_og_mou_diff'] = High_Value_Customer.isd_og_mou_8 - ((High_Value_Customer.isd_og_mou_6 + High_Value_Customer.isd_og_mou_7)/2)\n",
    "\n",
    "High_Value_Customer['spl_og_mou_diff'] = High_Value_Customer.spl_og_mou_8 - ((High_Value_Customer.spl_og_mou_6 + High_Value_Customer.spl_og_mou_7)/2)\n",
    "\n",
    "High_Value_Customer['total_og_mou_diff'] = High_Value_Customer.total_og_mou_8 - ((High_Value_Customer.total_og_mou_6 + High_Value_Customer.total_og_mou_7)/2)\n",
    "\n",
    "High_Value_Customer['loc_ic_mou_diff'] = High_Value_Customer.loc_ic_mou_8 - ((High_Value_Customer.loc_ic_mou_6 + High_Value_Customer.loc_ic_mou_7)/2)\n",
    "\n",
    "High_Value_Customer['std_ic_mou_diff'] = High_Value_Customer.std_ic_mou_8 - ((High_Value_Customer.std_ic_mou_6 + High_Value_Customer.std_ic_mou_7)/2)\n",
    "\n",
    "High_Value_Customer['isd_ic_mou_diff'] = High_Value_Customer.isd_ic_mou_8 - ((High_Value_Customer.isd_ic_mou_6 + High_Value_Customer.isd_ic_mou_7)/2)\n",
    "\n",
    "High_Value_Customer['spl_ic_mou_diff'] = High_Value_Customer.spl_ic_mou_8 - ((High_Value_Customer.spl_ic_mou_6 + High_Value_Customer.spl_ic_mou_7)/2)\n",
    "\n",
    "High_Value_Customer['total_ic_mou_diff'] = High_Value_Customer.total_ic_mou_8 - ((High_Value_Customer.total_ic_mou_6 + High_Value_Customer.total_ic_mou_7)/2)\n",
    "\n",
    "High_Value_Customer['total_rech_num_diff'] = High_Value_Customer.total_rech_num_8 - ((High_Value_Customer.total_rech_num_6 + High_Value_Customer.total_rech_num_7)/2)\n",
    "\n",
    "High_Value_Customer['total_rech_amt_diff'] = High_Value_Customer.total_rech_amt_8 - ((High_Value_Customer.total_rech_amt_6 + High_Value_Customer.total_rech_amt_7)/2)\n",
    "\n",
    "High_Value_Customer['max_rech_amt_diff'] = High_Value_Customer.max_rech_amt_8 - ((High_Value_Customer.max_rech_amt_6 + High_Value_Customer.max_rech_amt_7)/2)\n",
    "\n",
    "High_Value_Customer['total_rech_data_diff'] = High_Value_Customer.total_rech_data_8 - ((High_Value_Customer.total_rech_data_6 + High_Value_Customer.total_rech_data_7)/2)\n",
    "\n",
    "High_Value_Customer['max_rech_data_diff'] = High_Value_Customer.max_rech_data_8 - ((High_Value_Customer.max_rech_data_6 + High_Value_Customer.max_rech_data_7)/2)\n",
    "\n",
    "High_Value_Customer['av_rech_amt_data_diff'] = High_Value_Customer.av_rech_amt_data_8 - ((High_Value_Customer.av_rech_amt_data_6 + High_Value_Customer.av_rech_amt_data_7)/2)\n",
    "\n",
    "High_Value_Customer['vol_2g_mb_diff'] = High_Value_Customer.vol_2g_mb_8 - ((High_Value_Customer.vol_2g_mb_6 + High_Value_Customer.vol_2g_mb_7)/2)\n",
    "\n",
    "High_Value_Customer['vol_3g_mb_diff'] = High_Value_Customer.vol_3g_mb_8 - ((High_Value_Customer.vol_3g_mb_6 + High_Value_Customer.vol_3g_mb_7)/2)"
   ]
  },
  {
   "cell_type": "markdown",
   "metadata": {
    "colab_type": "text",
    "id": "dngS-9aoquig"
   },
   "source": [
    "*Will delete columns that belong to the churn month*"
   ]
  },
  {
   "cell_type": "code",
   "execution_count": 37,
   "metadata": {
    "colab": {},
    "colab_type": "code",
    "id": "Hrt-7LcDquig",
    "outputId": "7ee263b6-51cd-4879-8d70-e898f5b6f446"
   },
   "outputs": [
    {
     "data": {
      "text/plain": [
       "(29953, 170)"
      ]
     },
     "execution_count": 37,
     "metadata": {},
     "output_type": "execute_result"
    }
   ],
   "source": [
    "# delete all variables relating to 9th month\n",
    "High_Value_Customer = High_Value_Customer.filter(regex='[^9]$', axis=1)\n",
    "High_Value_Customer.shape"
   ]
  },
  {
   "cell_type": "code",
   "execution_count": 38,
   "metadata": {
    "colab": {},
    "colab_type": "code",
    "id": "2mTFPpOBquii"
   },
   "outputs": [],
   "source": [
    "# extract all names that end with 9\n",
    "col_9_names = churn.filter(regex='9$', axis=1).columns\n",
    "\n",
    "# update num_cols and cat_cols column name list\n",
    "categorical_column = [col for col in categorical_column if col not in col_9_names]\n",
    "categorical_column.append('churn')\n",
    "numerical_column = [col for col in High_Value_Customer.columns if col not in categorical_column]"
   ]
  },
  {
   "cell_type": "markdown",
   "metadata": {
    "colab_type": "text",
    "id": "m9jCfLYfquik"
   },
   "source": [
    "## visualise data"
   ]
  },
  {
   "cell_type": "code",
   "execution_count": 39,
   "metadata": {
    "colab": {},
    "colab_type": "code",
    "id": "uT34BRYEquil"
   },
   "outputs": [],
   "source": [
    "# change columns types\n",
    "High_Value_Customer[numerical_column] = High_Value_Customer[numerical_column].apply(pd.to_numeric)\n",
    "High_Value_Customer[categorical_column] = High_Value_Customer[categorical_column].apply(lambda column: column.astype(\"category\"), axis=0)"
   ]
  },
  {
   "cell_type": "code",
   "execution_count": 40,
   "metadata": {},
   "outputs": [
    {
     "data": {
      "text/plain": [
       "<Figure size 1440x360 with 0 Axes>"
      ]
     },
     "execution_count": 40,
     "metadata": {},
     "output_type": "execute_result"
    },
    {
     "data": {
      "text/plain": [
       "<matplotlib.axes._subplots.AxesSubplot at 0x28019f52a20>"
      ]
     },
     "execution_count": 40,
     "metadata": {},
     "output_type": "execute_result"
    },
    {
     "data": {
      "text/plain": [
       "<matplotlib.axes._subplots.AxesSubplot at 0x28019f52a20>"
      ]
     },
     "execution_count": 40,
     "metadata": {},
     "output_type": "execute_result"
    },
    {
     "data": {
      "text/plain": [
       "<matplotlib.axes._subplots.AxesSubplot at 0x2801123d0b8>"
      ]
     },
     "execution_count": 40,
     "metadata": {},
     "output_type": "execute_result"
    },
    {
     "data": {
      "text/plain": [
       "<matplotlib.axes._subplots.AxesSubplot at 0x2801123d0b8>"
      ]
     },
     "execution_count": 40,
     "metadata": {},
     "output_type": "execute_result"
    },
    {
     "data": {
      "text/plain": [
       "<matplotlib.axes._subplots.AxesSubplot at 0x280118d7f28>"
      ]
     },
     "execution_count": 40,
     "metadata": {},
     "output_type": "execute_result"
    },
    {
     "data": {
      "text/plain": [
       "<matplotlib.axes._subplots.AxesSubplot at 0x280118d7f28>"
      ]
     },
     "execution_count": 40,
     "metadata": {},
     "output_type": "execute_result"
    },
    {
     "data": {
      "text/plain": [
       "<matplotlib.axes._subplots.AxesSubplot at 0x2801195be80>"
      ]
     },
     "execution_count": 40,
     "metadata": {},
     "output_type": "execute_result"
    },
    {
     "data": {
      "text/plain": [
       "<matplotlib.axes._subplots.AxesSubplot at 0x2801195be80>"
      ]
     },
     "execution_count": 40,
     "metadata": {},
     "output_type": "execute_result"
    },
    {
     "data": {
      "image/png": "[encoded data removed]",
      "text/plain": [
       "<Figure size 1440x360 with 4 Axes>"
      ]
     },
     "metadata": {
      "needs_background": "light"
     },
     "output_type": "display_data"
    }
   ],
   "source": [
    "plt.figure(figsize=(20, 5))\n",
    "plt.subplot(2,2,1)\n",
    "sns.distplot(churn.arpu_6)\n",
    "\n",
    "plt.subplot(2,2,2)\n",
    "sns.distplot(churn.arpu_6)\n",
    "\n",
    "plt.subplot(2,2,3)\n",
    "sns.distplot(churn.onnet_mou_8)\n",
    "\n",
    "plt.subplot(2,2,4)\n",
    "sns.distplot(churn.offnet_mou_9)"
   ]
  },
  {
   "cell_type": "markdown",
   "metadata": {
    "colab_type": "text",
    "id": "4XqHHn7wqui3"
   },
   "source": [
    "`Inference`\n",
    "\n",
    "*The variables are highly skewed towards the left*"
   ]
  },
  {
   "cell_type": "code",
   "execution_count": 41,
   "metadata": {
    "scrolled": false
   },
   "outputs": [
    {
     "data": {
      "text/plain": [
       "<Figure size 1080x360 with 0 Axes>"
      ]
     },
     "execution_count": 41,
     "metadata": {},
     "output_type": "execute_result"
    },
    {
     "data": {
      "text/plain": [
       "<matplotlib.axes._subplots.AxesSubplot at 0x28011a84198>"
      ]
     },
     "execution_count": 41,
     "metadata": {},
     "output_type": "execute_result"
    },
    {
     "data": {
      "text/plain": [
       "<matplotlib.axes._subplots.AxesSubplot at 0x28011a84198>"
      ]
     },
     "execution_count": 41,
     "metadata": {},
     "output_type": "execute_result"
    },
    {
     "data": {
      "text/plain": [
       "<matplotlib.axes._subplots.AxesSubplot at 0x28011e75eb8>"
      ]
     },
     "execution_count": 41,
     "metadata": {},
     "output_type": "execute_result"
    },
    {
     "data": {
      "text/plain": [
       "<matplotlib.axes._subplots.AxesSubplot at 0x28011e75eb8>"
      ]
     },
     "execution_count": 41,
     "metadata": {},
     "output_type": "execute_result"
    },
    {
     "data": {
      "text/plain": [
       "<matplotlib.axes._subplots.AxesSubplot at 0x28011e88b00>"
      ]
     },
     "execution_count": 41,
     "metadata": {},
     "output_type": "execute_result"
    },
    {
     "data": {
      "text/plain": [
       "<matplotlib.axes._subplots.AxesSubplot at 0x28011e88b00>"
      ]
     },
     "execution_count": 41,
     "metadata": {},
     "output_type": "execute_result"
    },
    {
     "data": {
      "image/png": "[encoded data removed]",
      "text/plain": [
       "<Figure size 1080x360 with 3 Axes>"
      ]
     },
     "metadata": {
      "needs_background": "light"
     },
     "output_type": "display_data"
    }
   ],
   "source": [
    "plt.figure(figsize=(15, 5))\n",
    "plt.subplot(1,3,1)\n",
    "sns.boxplot(x = 'churn', y = 'aon', data = High_Value_Customer)\n",
    "\n",
    "plt.subplot(1,3,2)\n",
    "sns.boxplot(x = 'sep_vbc_3g', y = 'churn', data = High_Value_Customer)\n",
    "\n",
    "plt.subplot(1,3,3)\n",
    "sns.boxplot(x = 'spl_og_mou_8', y = 'churn', data = High_Value_Customer)"
   ]
  },
  {
   "cell_type": "markdown",
   "metadata": {
    "colab_type": "text",
    "id": "jZWMDr1JqujC"
   },
   "source": [
    "*Before we move on to the modelling, lets cap outliers in all numeric variables using `k-sigma technique`"
   ]
  },
  {
   "cell_type": "code",
   "execution_count": 42,
   "metadata": {
    "colab": {},
    "colab_type": "code",
    "id": "b5TjSopHqujC"
   },
   "outputs": [],
   "source": [
    "def cap_outliers(array, k=3):\n",
    "    upper_limit = array.mean() + k*array.std()\n",
    "    lower_limit = array.mean() - k*array.std()\n",
    "    array[array<lower_limit] = lower_limit\n",
    "    array[array>upper_limit] = upper_limit\n",
    "    return array"
   ]
  },
  {
   "cell_type": "code",
   "execution_count": 43,
   "metadata": {
    "colab": {},
    "colab_type": "code",
    "id": "Zu6IZbfCqujH"
   },
   "outputs": [],
   "source": [
    "# cap outliers in the numeric columns\n",
    "High_Value_Customer[numerical_column] = High_Value_Customer[numerical_column].apply(cap_outliers, axis=0)"
   ]
  },
  {
   "cell_type": "markdown",
   "metadata": {
    "colab_type": "text",
    "id": "gbzxO50rqujI"
   },
   "source": [
    "# Modelling\n",
    "## Preprocessing data"
   ]
  },
  {
   "cell_type": "code",
   "execution_count": 44,
   "metadata": {
    "colab": {},
    "colab_type": "code",
    "id": "HX-_0r7rqujL"
   },
   "outputs": [],
   "source": [
    "# change churn to numeric\n",
    "High_Value_Customer['churn'] = pd.to_numeric(High_Value_Customer['churn'])"
   ]
  },
  {
   "cell_type": "markdown",
   "metadata": {
    "colab_type": "text",
    "id": "jItGCUy-qujP"
   },
   "source": [
    "### Train Test split"
   ]
  },
  {
   "cell_type": "code",
   "execution_count": 45,
   "metadata": {
    "colab": {},
    "colab_type": "code",
    "id": "ajrcAj9HqujP"
   },
   "outputs": [],
   "source": [
    "# divide data into train and test\n",
    "X = High_Value_Customer.drop(\"churn\", axis = 1)\n",
    "y = High_Value_Customer.churn\n",
    "X_train, X_test, y_train, y_test = train_test_split(X, y, test_size = 0.30, random_state = 4, stratify = y)"
   ]
  },
  {
   "cell_type": "code",
   "execution_count": 46,
   "metadata": {
    "colab": {},
    "colab_type": "code",
    "id": "n4d0SDtnqujR",
    "outputId": "1535f87e-382c-44db-ec8b-f3668a5cb4f6"
   },
   "outputs": [
    {
     "data": {
      "text/plain": [
       "(20967, 169)"
      ]
     },
     "execution_count": 46,
     "metadata": {},
     "output_type": "execute_result"
    },
    {
     "data": {
      "text/plain": [
       "(20967,)"
      ]
     },
     "execution_count": 46,
     "metadata": {},
     "output_type": "execute_result"
    },
    {
     "data": {
      "text/plain": [
       "(8986, 169)"
      ]
     },
     "execution_count": 46,
     "metadata": {},
     "output_type": "execute_result"
    },
    {
     "data": {
      "text/plain": [
       "(8986,)"
      ]
     },
     "execution_count": 46,
     "metadata": {},
     "output_type": "execute_result"
    }
   ],
   "source": [
    "# print shapes of train and test sets\n",
    "X_train.shape\n",
    "y_train.shape\n",
    "X_test.shape\n",
    "y_test.shape"
   ]
  },
  {
   "cell_type": "markdown",
   "metadata": {
    "colab_type": "text",
    "id": "XZ4hr-0squjT"
   },
   "source": [
    "## Aggregating the categorical columns"
   ]
  },
  {
   "cell_type": "code",
   "execution_count": 47,
   "metadata": {
    "colab": {},
    "colab_type": "code",
    "id": "D_Fz8qF5qujV",
    "outputId": "d04d3bb8-9d57-443c-cdfd-d4e6b46e5614"
   },
   "outputs": [
    {
     "data": {
      "text/plain": [
       "night_pck_user_6\n",
       "-1.0    0.098943\n",
       " 0.0    0.066187\n",
       " 1.0    0.106164\n",
       "Name: churn, dtype: float64"
      ]
     },
     "execution_count": 47,
     "metadata": {},
     "output_type": "execute_result"
    },
    {
     "data": {
      "text/plain": [
       "night_pck_user_7\n",
       "-1.0    0.114634\n",
       " 0.0    0.055651\n",
       " 1.0    0.071161\n",
       "Name: churn, dtype: float64"
      ]
     },
     "execution_count": 47,
     "metadata": {},
     "output_type": "execute_result"
    },
    {
     "data": {
      "text/plain": [
       "night_pck_user_8\n",
       "-1.0    0.141321\n",
       " 0.0    0.028829\n",
       " 1.0    0.029046\n",
       "Name: churn, dtype: float64"
      ]
     },
     "execution_count": 47,
     "metadata": {},
     "output_type": "execute_result"
    },
    {
     "data": {
      "text/plain": [
       "fb_user_6\n",
       "-1.0    0.098943\n",
       " 0.0    0.069767\n",
       " 1.0    0.066980\n",
       "Name: churn, dtype: float64"
      ]
     },
     "execution_count": 47,
     "metadata": {},
     "output_type": "execute_result"
    },
    {
     "data": {
      "text/plain": [
       "fb_user_7\n",
       "-1.0    0.114634\n",
       " 0.0    0.061834\n",
       " 1.0    0.055500\n",
       "Name: churn, dtype: float64"
      ]
     },
     "execution_count": 47,
     "metadata": {},
     "output_type": "execute_result"
    },
    {
     "data": {
      "text/plain": [
       "fb_user_8\n",
       "-1.0    0.141321\n",
       " 0.0    0.061739\n",
       " 1.0    0.025070\n",
       "Name: churn, dtype: float64"
      ]
     },
     "execution_count": 47,
     "metadata": {},
     "output_type": "execute_result"
    }
   ],
   "source": [
    "train = pd.concat([X_train, y_train], axis=1)\n",
    "\n",
    "# aggregate the categorical variables\n",
    "train.groupby('night_pck_user_6').churn.mean()\n",
    "train.groupby('night_pck_user_7').churn.mean()\n",
    "train.groupby('night_pck_user_8').churn.mean()\n",
    "train.groupby('fb_user_6').churn.mean()\n",
    "train.groupby('fb_user_7').churn.mean()\n",
    "train.groupby('fb_user_8').churn.mean()"
   ]
  },
  {
   "cell_type": "code",
   "execution_count": 48,
   "metadata": {
    "colab": {},
    "colab_type": "code",
    "id": "qkk_OO19qujX"
   },
   "outputs": [],
   "source": [
    "# replace categories with aggregated values in each categorical column\n",
    "mapping = {'night_pck_user_6' : {-1: 0.099165, 0: 0.066797, 1: 0.087838},\n",
    "           'night_pck_user_7' : {-1: 0.115746, 0: 0.055494, 1: 0.051282},\n",
    "           'night_pck_user_8' : {-1: 0.141108, 0: 0.029023, 1: 0.016194},\n",
    "           'fb_user_6'        : {-1: 0.099165, 0: 0.069460, 1: 0.067124},\n",
    "           'fb_user_7'        : {-1: 0.115746, 0: 0.059305, 1: 0.055082},\n",
    "           'fb_user_8'        : {-1: 0.141108, 0: 0.066887, 1: 0.024463}\n",
    "          }\n",
    "X_train.replace(mapping, inplace = True)\n",
    "X_test.replace(mapping, inplace = True)"
   ]
  },
  {
   "cell_type": "code",
   "execution_count": 49,
   "metadata": {
    "colab": {},
    "colab_type": "code",
    "id": "6X54FHiYqujY",
    "outputId": "f2b57dcd-bfc1-4ff2-b030-dc2a1a960366",
    "scrolled": true
   },
   "outputs": [
    {
     "name": "stdout",
     "output_type": "stream",
     "text": [
      "<class 'pandas.core.frame.DataFrame'>\n",
      "Int64Index: 20967 entries, 25023 to 60112\n",
      "Data columns (total 6 columns):\n",
      "night_pck_user_6    20967 non-null float64\n",
      "night_pck_user_7    20967 non-null float64\n",
      "night_pck_user_8    20967 non-null float64\n",
      "fb_user_6           20967 non-null float64\n",
      "fb_user_7           20967 non-null float64\n",
      "fb_user_8           20967 non-null float64\n",
      "dtypes: float64(6)\n",
      "memory usage: 1.1 MB\n"
     ]
    }
   ],
   "source": [
    "# check data type of categorical columns - make sure they are numeric\n",
    "X_train[[col for col in categorical_column if col not in ['churn']]].info()"
   ]
  },
  {
   "cell_type": "markdown",
   "metadata": {
    "colab_type": "text",
    "id": "vUSz1OA-quja"
   },
   "source": [
    "## PCA"
   ]
  },
  {
   "cell_type": "code",
   "execution_count": 50,
   "metadata": {
    "colab": {},
    "colab_type": "code",
    "id": "f9-72mBCqujb"
   },
   "outputs": [],
   "source": [
    "# apply pca to train data\n",
    "pca = Pipeline([('scaler', StandardScaler()), ('pca', PCA())])"
   ]
  },
  {
   "cell_type": "code",
   "execution_count": 51,
   "metadata": {
    "colab": {},
    "colab_type": "code",
    "id": "-GdSHeOLqujd",
    "outputId": "c228c38b-a5c1-4031-89fc-044f4e1dd2f7"
   },
   "outputs": [
    {
     "data": {
      "text/plain": [
       "Pipeline(memory=None,\n",
       "         steps=[('scaler',\n",
       "                 StandardScaler(copy=True, with_mean=True, with_std=True)),\n",
       "                ('pca',\n",
       "                 PCA(copy=True, iterated_power='auto', n_components=None,\n",
       "                     random_state=None, svd_solver='auto', tol=0.0,\n",
       "                     whiten=False))],\n",
       "         verbose=False)"
      ]
     },
     "execution_count": 51,
     "metadata": {},
     "output_type": "execute_result"
    }
   ],
   "source": [
    "pca.fit(X_train)\n",
    "churn_pca = pca.fit_transform(X_train)"
   ]
  },
  {
   "cell_type": "code",
   "execution_count": 52,
   "metadata": {
    "colab": {},
    "colab_type": "code",
    "id": "S6NLAP11qujf",
    "outputId": "a66c247a-0a51-40ad-f1c6-cf0a29f08788"
   },
   "outputs": [
    {
     "name": "stdout",
     "output_type": "stream",
     "text": [
      "0       11.45\n",
      "1       20.87\n",
      "2       26.83\n",
      "3       31.81\n",
      "4       36.34\n",
      "5       39.91\n",
      "6       42.63\n",
      "7       45.24\n",
      "8       47.53\n",
      "9       49.69\n",
      "10      51.64\n",
      "11      53.53\n",
      "12      55.28\n",
      "13      56.92\n",
      "14      58.52\n",
      "15      60.09\n",
      "16      61.51\n",
      "17      62.81\n",
      "18      64.10\n",
      "19      65.38\n",
      "20      66.55\n",
      "21      67.67\n",
      "22      68.75\n",
      "23      69.79\n",
      "24      70.80\n",
      "25      71.75\n",
      "26      72.68\n",
      "27      73.59\n",
      "28      74.47\n",
      "29      75.32\n",
      "        ...  \n",
      "139     99.86\n",
      "140     99.87\n",
      "141     99.88\n",
      "142     99.89\n",
      "143     99.90\n",
      "144     99.91\n",
      "145     99.91\n",
      "146     99.92\n",
      "147     99.93\n",
      "148     99.93\n",
      "149     99.94\n",
      "150     99.94\n",
      "151     99.95\n",
      "152     99.95\n",
      "153     99.96\n",
      "154     99.96\n",
      "155     99.97\n",
      "156     99.97\n",
      "157     99.98\n",
      "158     99.98\n",
      "159     99.98\n",
      "160     99.99\n",
      "161     99.99\n",
      "162     99.99\n",
      "163     99.99\n",
      "164    100.00\n",
      "165    100.00\n",
      "166    100.00\n",
      "167    100.00\n",
      "168    100.00\n",
      "Length: 169, dtype: float64\n"
     ]
    }
   ],
   "source": [
    "# extract pca model from pipeline\n",
    "pca = pca.named_steps['pca']\n",
    "\n",
    "# look at explainded variance of PCA components\n",
    "print(pd.Series(np.round(pca.explained_variance_ratio_.cumsum(), 4)*100))"
   ]
  },
  {
   "cell_type": "markdown",
   "metadata": {
    "colab_type": "text",
    "id": "tx33fXroqujg"
   },
   "source": [
    "~ 60 components explain 90% variance\n",
    "\n",
    "~ 80 components explain 95% variance"
   ]
  },
  {
   "cell_type": "code",
   "execution_count": 53,
   "metadata": {
    "colab": {},
    "colab_type": "code",
    "id": "tmP_FCNoqujh",
    "outputId": "b5658f00-6c87-44fb-da01-b3a3e6bf21ac"
   },
   "outputs": [
    {
     "data": {
      "text/plain": [
       "<Figure size 630x360 with 0 Axes>"
      ]
     },
     "execution_count": 53,
     "metadata": {},
     "output_type": "execute_result"
    },
    {
     "data": {
      "text/plain": [
       "[<matplotlib.lines.Line2D at 0x28011671320>]"
      ]
     },
     "execution_count": 53,
     "metadata": {},
     "output_type": "execute_result"
    },
    {
     "data": {
      "image/png": "[encoded data removed]",
      "text/plain": [
       "<Figure size 630x360 with 1 Axes>"
      ]
     },
     "metadata": {
      "needs_background": "light"
     },
     "output_type": "display_data"
    }
   ],
   "source": [
    "# plot feature variance\n",
    "features = range(pca.n_components_)\n",
    "cumulative_variance = np.round(np.cumsum(pca.explained_variance_ratio_)*100, decimals=4)\n",
    "plt.figure(figsize=(175/20,100/20)) # 100 elements on y-axis; 175 elements on x-axis; 20 is normalising factor\n",
    "plt.plot(cumulative_variance)"
   ]
  },
  {
   "cell_type": "markdown",
   "metadata": {
    "colab_type": "text",
    "id": "QQD4sei4quji"
   },
   "source": [
    "## PCA and Logistic Regression"
   ]
  },
  {
   "cell_type": "code",
   "execution_count": 54,
   "metadata": {
    "colab": {},
    "colab_type": "code",
    "id": "V-l7hfdlquji"
   },
   "outputs": [],
   "source": [
    "# create pipeline\n",
    "PCA_VARS = 80\n",
    "steps = [('scaler', StandardScaler()),\n",
    "         (\"pca\", PCA(n_components=PCA_VARS)),\n",
    "         (\"logistic\", LogisticRegression(class_weight='balanced'))\n",
    "        ]\n",
    "pipeline = Pipeline(steps)"
   ]
  },
  {
   "cell_type": "code",
   "execution_count": 55,
   "metadata": {
    "colab": {},
    "colab_type": "code",
    "id": "Zut0co29qujl",
    "outputId": "1da4f370-f06d-4e5c-f4ef-e9ecc06f03c9"
   },
   "outputs": [
    {
     "data": {
      "text/plain": [
       "Pipeline(memory=None,\n",
       "         steps=[('scaler',\n",
       "                 StandardScaler(copy=True, with_mean=True, with_std=True)),\n",
       "                ('pca',\n",
       "                 PCA(copy=True, iterated_power='auto', n_components=80,\n",
       "                     random_state=None, svd_solver='auto', tol=0.0,\n",
       "                     whiten=False)),\n",
       "                ('logistic',\n",
       "                 LogisticRegression(C=1.0, class_weight='balanced', dual=False,\n",
       "                                    fit_intercept=True, intercept_scaling=1,\n",
       "                                    l1_ratio=None, max_iter=100,\n",
       "                                    multi_class='auto', n_jobs=None,\n",
       "                                    penalty='l2', random_state=None,\n",
       "                                    solver='lbfgs', tol=0.0001, verbose=0,\n",
       "                                    warm_start=False))],\n",
       "         verbose=False)"
      ]
     },
     "execution_count": 55,
     "metadata": {},
     "output_type": "execute_result"
    },
    {
     "data": {
      "text/plain": [
       "0.8263461630180761"
      ]
     },
     "execution_count": 55,
     "metadata": {},
     "output_type": "execute_result"
    }
   ],
   "source": [
    "# fit model\n",
    "pipeline.fit(X_train, y_train)\n",
    "\n",
    "# check score on train data\n",
    "pipeline.score(X_train, y_train)"
   ]
  },
  {
   "cell_type": "markdown",
   "metadata": {
    "colab_type": "text",
    "id": "HJaRimOWqujm"
   },
   "source": [
    "### Evaluate on test data"
   ]
  },
  {
   "cell_type": "code",
   "execution_count": 56,
   "metadata": {
    "colab": {},
    "colab_type": "code",
    "id": "in3KetFlqujm",
    "outputId": "6f89cf78-c82e-47e8-bb0b-7d882fae1eb7"
   },
   "outputs": [],
   "source": [
    "# predict churn on test data\n",
    "y_pred = pipeline.predict(X_test)"
   ]
  },
  {
   "cell_type": "code",
   "execution_count": 57,
   "metadata": {},
   "outputs": [
    {
     "name": "stdout",
     "output_type": "stream",
     "text": [
      "[[6852 1404]\n",
      " [ 124  606]]\n"
     ]
    }
   ],
   "source": [
    "# create confusion matrix\n",
    "cm = confusion_matrix(y_test, y_pred)\n",
    "print(cm)"
   ]
  },
  {
   "cell_type": "code",
   "execution_count": 58,
   "metadata": {},
   "outputs": [
    {
     "name": "stdout",
     "output_type": "stream",
     "text": [
      "Sensitivity: \t0.83\n",
      "Specificity: \t0.83\n"
     ]
    }
   ],
   "source": [
    "# check sensitivity and specificity\n",
    "sensitivity, specificity, _ = sensitivity_specificity_support(y_test, y_pred, average='binary')\n",
    "print(\"Sensitivity: \\t\", round(sensitivity, 2), \"\\n\", \"Specificity: \\t\", round(specificity, 2), sep='')\n"
   ]
  },
  {
   "cell_type": "code",
   "execution_count": 59,
   "metadata": {},
   "outputs": [
    {
     "name": "stdout",
     "output_type": "stream",
     "text": [
      "AUC:    \t 0.9\n"
     ]
    }
   ],
   "source": [
    "# check area under curve\n",
    "y_pred_prob = pipeline.predict_proba(X_test)[:, 1]\n",
    "print(\"AUC:    \\t\", round(roc_auc_score(y_test, y_pred_prob),2))"
   ]
  },
  {
   "cell_type": "markdown",
   "metadata": {
    "colab_type": "text",
    "id": "uj2YX244qujo"
   },
   "source": [
    "### Hyperparameter tuning - PCA and Logistic Regression"
   ]
  },
  {
   "cell_type": "code",
   "execution_count": 60,
   "metadata": {
    "colab": {},
    "colab_type": "code",
    "id": "5nGaSDiQqujo",
    "outputId": "e6529d7f-224c-4daf-8d82-f240f70203d2"
   },
   "outputs": [
    {
     "data": {
      "text/plain": [
       "0    0.918777\n",
       "1    0.081223\n",
       "Name: churn, dtype: float64"
      ]
     },
     "execution_count": 60,
     "metadata": {},
     "output_type": "execute_result"
    }
   ],
   "source": [
    "# class imbalance\n",
    "y_train.value_counts()/y_train.shape"
   ]
  },
  {
   "cell_type": "code",
   "execution_count": 61,
   "metadata": {
    "colab": {},
    "colab_type": "code",
    "id": "7I0G9nUHqujp"
   },
   "outputs": [],
   "source": [
    "# PCA\n",
    "pca = PCA()\n",
    "\n",
    "# logistic regression - the class weight is used to handle class imbalance - it adjusts the cost function\n",
    "logistic = LogisticRegression(class_weight={0:0.1, 1: 0.9})\n",
    "\n",
    "# create pipeline\n",
    "steps = [(\"scaler\", StandardScaler()), \n",
    "         (\"pca\", pca),\n",
    "         (\"logistic\", logistic)\n",
    "        ]\n",
    "\n",
    "# compile pipeline\n",
    "pca_logistic = Pipeline(steps)\n",
    "\n",
    "# hyperparameter space\n",
    "params = {'pca__n_components': [60, 80], 'logistic__C': [0.1, 0.5, 1, 2, 3, 4, 5, 10], 'logistic__penalty': ['l1', 'l2']}\n",
    "\n",
    "# create 5 folds\n",
    "folds = StratifiedKFold(n_splits = 5, shuffle = True, random_state = 4)\n",
    "\n",
    "# create gridsearch object\n",
    "model = GridSearchCV(estimator=pca_logistic, cv=folds, param_grid=params, scoring='roc_auc', n_jobs=-1, verbose=1)"
   ]
  },
  {
   "cell_type": "code",
   "execution_count": 62,
   "metadata": {
    "colab": {},
    "colab_type": "code",
    "id": "mJimRHG7qujq",
    "outputId": "4dae0805-e190-400f-86ee-e2af717d66dd"
   },
   "outputs": [
    {
     "name": "stdout",
     "output_type": "stream",
     "text": [
      "Fitting 5 folds for each of 32 candidates, totalling 160 fits\n"
     ]
    },
    {
     "name": "stderr",
     "output_type": "stream",
     "text": [
      "[Parallel(n_jobs=-1)]: Using backend LokyBackend with 8 concurrent workers.\n",
      "[Parallel(n_jobs=-1)]: Done  34 tasks      | elapsed:   24.6s\n",
      "[Parallel(n_jobs=-1)]: Done 160 out of 160 | elapsed:  1.4min finished\n"
     ]
    },
    {
     "data": {
      "text/plain": [
       "GridSearchCV(cv=StratifiedKFold(n_splits=5, random_state=4, shuffle=True),\n",
       "             error_score=nan,\n",
       "             estimator=Pipeline(memory=None,\n",
       "                                steps=[('scaler',\n",
       "                                        StandardScaler(copy=True,\n",
       "                                                       with_mean=True,\n",
       "                                                       with_std=True)),\n",
       "                                       ('pca',\n",
       "                                        PCA(copy=True, iterated_power='auto',\n",
       "                                            n_components=None,\n",
       "                                            random_state=None,\n",
       "                                            svd_solver='auto', tol=0.0,\n",
       "                                            whiten=False)),\n",
       "                                       ('logistic',\n",
       "                                        LogisticRegression(C=1.0,\n",
       "                                                           c...\n",
       "                                                           multi_class='auto',\n",
       "                                                           n_jobs=None,\n",
       "                                                           penalty='l2',\n",
       "                                                           random_state=None,\n",
       "                                                           solver='lbfgs',\n",
       "                                                           tol=0.0001,\n",
       "                                                           verbose=0,\n",
       "                                                           warm_start=False))],\n",
       "                                verbose=False),\n",
       "             iid='deprecated', n_jobs=-1,\n",
       "             param_grid={'logistic__C': [0.1, 0.5, 1, 2, 3, 4, 5, 10],\n",
       "                         'logistic__penalty': ['l1', 'l2'],\n",
       "                         'pca__n_components': [60, 80]},\n",
       "             pre_dispatch='2*n_jobs', refit=True, return_train_score=False,\n",
       "             scoring='roc_auc', verbose=1)"
      ]
     },
     "execution_count": 62,
     "metadata": {},
     "output_type": "execute_result"
    }
   ],
   "source": [
    "# fit model\n",
    "model.fit(X_train, y_train)"
   ]
  },
  {
   "cell_type": "code",
   "execution_count": 63,
   "metadata": {
    "colab": {},
    "colab_type": "code",
    "id": "5nrEVcTzqujs",
    "outputId": "3a2d83fe-172f-4302-c3f6-d22ca49c0729",
    "scrolled": false
   },
   "outputs": [
    {
     "data": {
      "text/html": [
       "<div>\n",
       "<style scoped>\n",
       "    .dataframe tbody tr th:only-of-type {\n",
       "        vertical-align: middle;\n",
       "    }\n",
       "\n",
       "    .dataframe tbody tr th {\n",
       "        vertical-align: top;\n",
       "    }\n",
       "\n",
       "    .dataframe thead th {\n",
       "        text-align: right;\n",
       "    }\n",
       "</style>\n",
       "<table border=\"1\" class=\"dataframe\">\n",
       "  <thead>\n",
       "    <tr style=\"text-align: right;\">\n",
       "      <th></th>\n",
       "      <th>mean_fit_time</th>\n",
       "      <th>std_fit_time</th>\n",
       "      <th>mean_score_time</th>\n",
       "      <th>std_score_time</th>\n",
       "      <th>param_logistic__C</th>\n",
       "      <th>param_logistic__penalty</th>\n",
       "      <th>param_pca__n_components</th>\n",
       "      <th>params</th>\n",
       "      <th>split0_test_score</th>\n",
       "      <th>split1_test_score</th>\n",
       "      <th>split2_test_score</th>\n",
       "      <th>split3_test_score</th>\n",
       "      <th>split4_test_score</th>\n",
       "      <th>mean_test_score</th>\n",
       "      <th>std_test_score</th>\n",
       "      <th>rank_test_score</th>\n",
       "    </tr>\n",
       "  </thead>\n",
       "  <tbody>\n",
       "    <tr>\n",
       "      <th>0</th>\n",
       "      <td>4.723104</td>\n",
       "      <td>0.008432</td>\n",
       "      <td>0.000000</td>\n",
       "      <td>0.000000</td>\n",
       "      <td>0.1</td>\n",
       "      <td>l1</td>\n",
       "      <td>60</td>\n",
       "      <td>{'logistic__C': 0.1, 'logistic__penalty': 'l1'...</td>\n",
       "      <td>NaN</td>\n",
       "      <td>NaN</td>\n",
       "      <td>NaN</td>\n",
       "      <td>NaN</td>\n",
       "      <td>NaN</td>\n",
       "      <td>NaN</td>\n",
       "      <td>NaN</td>\n",
       "      <td>32</td>\n",
       "    </tr>\n",
       "    <tr>\n",
       "      <th>1</th>\n",
       "      <td>3.712203</td>\n",
       "      <td>1.239682</td>\n",
       "      <td>0.000000</td>\n",
       "      <td>0.000000</td>\n",
       "      <td>0.1</td>\n",
       "      <td>l1</td>\n",
       "      <td>80</td>\n",
       "      <td>{'logistic__C': 0.1, 'logistic__penalty': 'l1'...</td>\n",
       "      <td>NaN</td>\n",
       "      <td>NaN</td>\n",
       "      <td>NaN</td>\n",
       "      <td>NaN</td>\n",
       "      <td>NaN</td>\n",
       "      <td>NaN</td>\n",
       "      <td>NaN</td>\n",
       "      <td>18</td>\n",
       "    </tr>\n",
       "    <tr>\n",
       "      <th>2</th>\n",
       "      <td>3.287426</td>\n",
       "      <td>0.210118</td>\n",
       "      <td>0.246298</td>\n",
       "      <td>0.143047</td>\n",
       "      <td>0.1</td>\n",
       "      <td>l2</td>\n",
       "      <td>60</td>\n",
       "      <td>{'logistic__C': 0.1, 'logistic__penalty': 'l2'...</td>\n",
       "      <td>0.897818</td>\n",
       "      <td>0.903427</td>\n",
       "      <td>0.893342</td>\n",
       "      <td>0.887506</td>\n",
       "      <td>0.891836</td>\n",
       "      <td>0.894786</td>\n",
       "      <td>0.005434</td>\n",
       "      <td>11</td>\n",
       "    </tr>\n",
       "    <tr>\n",
       "      <th>3</th>\n",
       "      <td>3.956075</td>\n",
       "      <td>0.165842</td>\n",
       "      <td>0.102370</td>\n",
       "      <td>0.014593</td>\n",
       "      <td>0.1</td>\n",
       "      <td>l2</td>\n",
       "      <td>80</td>\n",
       "      <td>{'logistic__C': 0.1, 'logistic__penalty': 'l2'...</td>\n",
       "      <td>0.899702</td>\n",
       "      <td>0.905214</td>\n",
       "      <td>0.896246</td>\n",
       "      <td>0.892206</td>\n",
       "      <td>0.898160</td>\n",
       "      <td>0.898306</td>\n",
       "      <td>0.004269</td>\n",
       "      <td>5</td>\n",
       "    </tr>\n",
       "    <tr>\n",
       "      <th>4</th>\n",
       "      <td>2.836196</td>\n",
       "      <td>0.021769</td>\n",
       "      <td>0.000000</td>\n",
       "      <td>0.000000</td>\n",
       "      <td>0.5</td>\n",
       "      <td>l1</td>\n",
       "      <td>60</td>\n",
       "      <td>{'logistic__C': 0.5, 'logistic__penalty': 'l1'...</td>\n",
       "      <td>NaN</td>\n",
       "      <td>NaN</td>\n",
       "      <td>NaN</td>\n",
       "      <td>NaN</td>\n",
       "      <td>NaN</td>\n",
       "      <td>NaN</td>\n",
       "      <td>NaN</td>\n",
       "      <td>22</td>\n",
       "    </tr>\n",
       "    <tr>\n",
       "      <th>5</th>\n",
       "      <td>3.357846</td>\n",
       "      <td>0.196729</td>\n",
       "      <td>0.000000</td>\n",
       "      <td>0.000000</td>\n",
       "      <td>0.5</td>\n",
       "      <td>l1</td>\n",
       "      <td>80</td>\n",
       "      <td>{'logistic__C': 0.5, 'logistic__penalty': 'l1'...</td>\n",
       "      <td>NaN</td>\n",
       "      <td>NaN</td>\n",
       "      <td>NaN</td>\n",
       "      <td>NaN</td>\n",
       "      <td>NaN</td>\n",
       "      <td>NaN</td>\n",
       "      <td>NaN</td>\n",
       "      <td>30</td>\n",
       "    </tr>\n",
       "    <tr>\n",
       "      <th>6</th>\n",
       "      <td>3.555332</td>\n",
       "      <td>0.203452</td>\n",
       "      <td>0.106042</td>\n",
       "      <td>0.016249</td>\n",
       "      <td>0.5</td>\n",
       "      <td>l2</td>\n",
       "      <td>60</td>\n",
       "      <td>{'logistic__C': 0.5, 'logistic__penalty': 'l2'...</td>\n",
       "      <td>0.896643</td>\n",
       "      <td>0.905100</td>\n",
       "      <td>0.893835</td>\n",
       "      <td>0.888106</td>\n",
       "      <td>0.892973</td>\n",
       "      <td>0.895331</td>\n",
       "      <td>0.005607</td>\n",
       "      <td>9</td>\n",
       "    </tr>\n",
       "    <tr>\n",
       "      <th>7</th>\n",
       "      <td>4.581494</td>\n",
       "      <td>0.133472</td>\n",
       "      <td>0.099933</td>\n",
       "      <td>0.009594</td>\n",
       "      <td>0.5</td>\n",
       "      <td>l2</td>\n",
       "      <td>80</td>\n",
       "      <td>{'logistic__C': 0.5, 'logistic__penalty': 'l2'...</td>\n",
       "      <td>0.899579</td>\n",
       "      <td>0.903619</td>\n",
       "      <td>0.896275</td>\n",
       "      <td>0.893015</td>\n",
       "      <td>0.898770</td>\n",
       "      <td>0.898252</td>\n",
       "      <td>0.003526</td>\n",
       "      <td>7</td>\n",
       "    </tr>\n",
       "    <tr>\n",
       "      <th>8</th>\n",
       "      <td>2.841180</td>\n",
       "      <td>0.121390</td>\n",
       "      <td>0.000000</td>\n",
       "      <td>0.000000</td>\n",
       "      <td>1</td>\n",
       "      <td>l1</td>\n",
       "      <td>60</td>\n",
       "      <td>{'logistic__C': 1, 'logistic__penalty': 'l1', ...</td>\n",
       "      <td>NaN</td>\n",
       "      <td>NaN</td>\n",
       "      <td>NaN</td>\n",
       "      <td>NaN</td>\n",
       "      <td>NaN</td>\n",
       "      <td>NaN</td>\n",
       "      <td>NaN</td>\n",
       "      <td>29</td>\n",
       "    </tr>\n",
       "    <tr>\n",
       "      <th>9</th>\n",
       "      <td>3.548497</td>\n",
       "      <td>0.102535</td>\n",
       "      <td>0.000000</td>\n",
       "      <td>0.000000</td>\n",
       "      <td>1</td>\n",
       "      <td>l1</td>\n",
       "      <td>80</td>\n",
       "      <td>{'logistic__C': 1, 'logistic__penalty': 'l1', ...</td>\n",
       "      <td>NaN</td>\n",
       "      <td>NaN</td>\n",
       "      <td>NaN</td>\n",
       "      <td>NaN</td>\n",
       "      <td>NaN</td>\n",
       "      <td>NaN</td>\n",
       "      <td>NaN</td>\n",
       "      <td>28</td>\n",
       "    </tr>\n",
       "    <tr>\n",
       "      <th>10</th>\n",
       "      <td>3.376457</td>\n",
       "      <td>0.158312</td>\n",
       "      <td>0.112459</td>\n",
       "      <td>0.013599</td>\n",
       "      <td>1</td>\n",
       "      <td>l2</td>\n",
       "      <td>60</td>\n",
       "      <td>{'logistic__C': 1, 'logistic__penalty': 'l2', ...</td>\n",
       "      <td>0.896129</td>\n",
       "      <td>0.902512</td>\n",
       "      <td>0.893135</td>\n",
       "      <td>0.888044</td>\n",
       "      <td>0.892733</td>\n",
       "      <td>0.894511</td>\n",
       "      <td>0.004765</td>\n",
       "      <td>14</td>\n",
       "    </tr>\n",
       "    <tr>\n",
       "      <th>11</th>\n",
       "      <td>4.242094</td>\n",
       "      <td>0.107117</td>\n",
       "      <td>0.101202</td>\n",
       "      <td>0.010560</td>\n",
       "      <td>1</td>\n",
       "      <td>l2</td>\n",
       "      <td>80</td>\n",
       "      <td>{'logistic__C': 1, 'logistic__penalty': 'l2', ...</td>\n",
       "      <td>0.899367</td>\n",
       "      <td>0.904492</td>\n",
       "      <td>0.896718</td>\n",
       "      <td>0.893922</td>\n",
       "      <td>0.899099</td>\n",
       "      <td>0.898720</td>\n",
       "      <td>0.003490</td>\n",
       "      <td>1</td>\n",
       "    </tr>\n",
       "    <tr>\n",
       "      <th>12</th>\n",
       "      <td>2.791017</td>\n",
       "      <td>0.256088</td>\n",
       "      <td>0.000000</td>\n",
       "      <td>0.000000</td>\n",
       "      <td>2</td>\n",
       "      <td>l1</td>\n",
       "      <td>60</td>\n",
       "      <td>{'logistic__C': 2, 'logistic__penalty': 'l1', ...</td>\n",
       "      <td>NaN</td>\n",
       "      <td>NaN</td>\n",
       "      <td>NaN</td>\n",
       "      <td>NaN</td>\n",
       "      <td>NaN</td>\n",
       "      <td>NaN</td>\n",
       "      <td>NaN</td>\n",
       "      <td>27</td>\n",
       "    </tr>\n",
       "    <tr>\n",
       "      <th>13</th>\n",
       "      <td>3.460031</td>\n",
       "      <td>0.094080</td>\n",
       "      <td>0.000000</td>\n",
       "      <td>0.000000</td>\n",
       "      <td>2</td>\n",
       "      <td>l1</td>\n",
       "      <td>80</td>\n",
       "      <td>{'logistic__C': 2, 'logistic__penalty': 'l1', ...</td>\n",
       "      <td>NaN</td>\n",
       "      <td>NaN</td>\n",
       "      <td>NaN</td>\n",
       "      <td>NaN</td>\n",
       "      <td>NaN</td>\n",
       "      <td>NaN</td>\n",
       "      <td>NaN</td>\n",
       "      <td>26</td>\n",
       "    </tr>\n",
       "    <tr>\n",
       "      <th>14</th>\n",
       "      <td>3.678747</td>\n",
       "      <td>0.187149</td>\n",
       "      <td>0.104718</td>\n",
       "      <td>0.018777</td>\n",
       "      <td>2</td>\n",
       "      <td>l2</td>\n",
       "      <td>60</td>\n",
       "      <td>{'logistic__C': 2, 'logistic__penalty': 'l2', ...</td>\n",
       "      <td>0.896252</td>\n",
       "      <td>0.903347</td>\n",
       "      <td>0.893319</td>\n",
       "      <td>0.887408</td>\n",
       "      <td>0.892990</td>\n",
       "      <td>0.894663</td>\n",
       "      <td>0.005200</td>\n",
       "      <td>13</td>\n",
       "    </tr>\n",
       "    <tr>\n",
       "      <th>15</th>\n",
       "      <td>4.362916</td>\n",
       "      <td>0.171592</td>\n",
       "      <td>0.108328</td>\n",
       "      <td>0.026121</td>\n",
       "      <td>2</td>\n",
       "      <td>l2</td>\n",
       "      <td>80</td>\n",
       "      <td>{'logistic__C': 2, 'logistic__penalty': 'l2', ...</td>\n",
       "      <td>0.898626</td>\n",
       "      <td>0.904415</td>\n",
       "      <td>0.896421</td>\n",
       "      <td>0.893588</td>\n",
       "      <td>0.898957</td>\n",
       "      <td>0.898401</td>\n",
       "      <td>0.003567</td>\n",
       "      <td>4</td>\n",
       "    </tr>\n",
       "    <tr>\n",
       "      <th>16</th>\n",
       "      <td>2.702750</td>\n",
       "      <td>0.062117</td>\n",
       "      <td>0.000000</td>\n",
       "      <td>0.000000</td>\n",
       "      <td>3</td>\n",
       "      <td>l1</td>\n",
       "      <td>60</td>\n",
       "      <td>{'logistic__C': 3, 'logistic__penalty': 'l1', ...</td>\n",
       "      <td>NaN</td>\n",
       "      <td>NaN</td>\n",
       "      <td>NaN</td>\n",
       "      <td>NaN</td>\n",
       "      <td>NaN</td>\n",
       "      <td>NaN</td>\n",
       "      <td>NaN</td>\n",
       "      <td>25</td>\n",
       "    </tr>\n",
       "    <tr>\n",
       "      <th>17</th>\n",
       "      <td>3.575336</td>\n",
       "      <td>0.150604</td>\n",
       "      <td>0.000000</td>\n",
       "      <td>0.000000</td>\n",
       "      <td>3</td>\n",
       "      <td>l1</td>\n",
       "      <td>80</td>\n",
       "      <td>{'logistic__C': 3, 'logistic__penalty': 'l1', ...</td>\n",
       "      <td>NaN</td>\n",
       "      <td>NaN</td>\n",
       "      <td>NaN</td>\n",
       "      <td>NaN</td>\n",
       "      <td>NaN</td>\n",
       "      <td>NaN</td>\n",
       "      <td>NaN</td>\n",
       "      <td>23</td>\n",
       "    </tr>\n",
       "    <tr>\n",
       "      <th>18</th>\n",
       "      <td>3.596769</td>\n",
       "      <td>0.141901</td>\n",
       "      <td>0.100350</td>\n",
       "      <td>0.011871</td>\n",
       "      <td>3</td>\n",
       "      <td>l2</td>\n",
       "      <td>60</td>\n",
       "      <td>{'logistic__C': 3, 'logistic__penalty': 'l2', ...</td>\n",
       "      <td>0.895922</td>\n",
       "      <td>0.903108</td>\n",
       "      <td>0.893596</td>\n",
       "      <td>0.888179</td>\n",
       "      <td>0.892791</td>\n",
       "      <td>0.894719</td>\n",
       "      <td>0.004890</td>\n",
       "      <td>12</td>\n",
       "    </tr>\n",
       "    <tr>\n",
       "      <th>19</th>\n",
       "      <td>4.336190</td>\n",
       "      <td>0.176241</td>\n",
       "      <td>0.103922</td>\n",
       "      <td>0.015974</td>\n",
       "      <td>3</td>\n",
       "      <td>l2</td>\n",
       "      <td>80</td>\n",
       "      <td>{'logistic__C': 3, 'logistic__penalty': 'l2', ...</td>\n",
       "      <td>0.897907</td>\n",
       "      <td>0.904761</td>\n",
       "      <td>0.895963</td>\n",
       "      <td>0.893663</td>\n",
       "      <td>0.898688</td>\n",
       "      <td>0.898196</td>\n",
       "      <td>0.003714</td>\n",
       "      <td>8</td>\n",
       "    </tr>\n",
       "    <tr>\n",
       "      <th>20</th>\n",
       "      <td>2.901032</td>\n",
       "      <td>0.190885</td>\n",
       "      <td>0.000000</td>\n",
       "      <td>0.000000</td>\n",
       "      <td>4</td>\n",
       "      <td>l1</td>\n",
       "      <td>60</td>\n",
       "      <td>{'logistic__C': 4, 'logistic__penalty': 'l1', ...</td>\n",
       "      <td>NaN</td>\n",
       "      <td>NaN</td>\n",
       "      <td>NaN</td>\n",
       "      <td>NaN</td>\n",
       "      <td>NaN</td>\n",
       "      <td>NaN</td>\n",
       "      <td>NaN</td>\n",
       "      <td>24</td>\n",
       "    </tr>\n",
       "    <tr>\n",
       "      <th>21</th>\n",
       "      <td>3.567227</td>\n",
       "      <td>0.240895</td>\n",
       "      <td>0.000000</td>\n",
       "      <td>0.000000</td>\n",
       "      <td>4</td>\n",
       "      <td>l1</td>\n",
       "      <td>80</td>\n",
       "      <td>{'logistic__C': 4, 'logistic__penalty': 'l1', ...</td>\n",
       "      <td>NaN</td>\n",
       "      <td>NaN</td>\n",
       "      <td>NaN</td>\n",
       "      <td>NaN</td>\n",
       "      <td>NaN</td>\n",
       "      <td>NaN</td>\n",
       "      <td>NaN</td>\n",
       "      <td>31</td>\n",
       "    </tr>\n",
       "    <tr>\n",
       "      <th>22</th>\n",
       "      <td>3.481598</td>\n",
       "      <td>0.203130</td>\n",
       "      <td>0.108709</td>\n",
       "      <td>0.011612</td>\n",
       "      <td>4</td>\n",
       "      <td>l2</td>\n",
       "      <td>60</td>\n",
       "      <td>{'logistic__C': 4, 'logistic__penalty': 'l2', ...</td>\n",
       "      <td>0.896643</td>\n",
       "      <td>0.901701</td>\n",
       "      <td>0.893490</td>\n",
       "      <td>0.888380</td>\n",
       "      <td>0.892273</td>\n",
       "      <td>0.894497</td>\n",
       "      <td>0.004469</td>\n",
       "      <td>15</td>\n",
       "    </tr>\n",
       "    <tr>\n",
       "      <th>23</th>\n",
       "      <td>4.215344</td>\n",
       "      <td>0.150975</td>\n",
       "      <td>0.105413</td>\n",
       "      <td>0.006300</td>\n",
       "      <td>4</td>\n",
       "      <td>l2</td>\n",
       "      <td>80</td>\n",
       "      <td>{'logistic__C': 4, 'logistic__penalty': 'l2', ...</td>\n",
       "      <td>0.898445</td>\n",
       "      <td>0.904406</td>\n",
       "      <td>0.896519</td>\n",
       "      <td>0.893471</td>\n",
       "      <td>0.898443</td>\n",
       "      <td>0.898257</td>\n",
       "      <td>0.003572</td>\n",
       "      <td>6</td>\n",
       "    </tr>\n",
       "    <tr>\n",
       "      <th>24</th>\n",
       "      <td>2.775359</td>\n",
       "      <td>0.042535</td>\n",
       "      <td>0.000000</td>\n",
       "      <td>0.000000</td>\n",
       "      <td>5</td>\n",
       "      <td>l1</td>\n",
       "      <td>60</td>\n",
       "      <td>{'logistic__C': 5, 'logistic__penalty': 'l1', ...</td>\n",
       "      <td>NaN</td>\n",
       "      <td>NaN</td>\n",
       "      <td>NaN</td>\n",
       "      <td>NaN</td>\n",
       "      <td>NaN</td>\n",
       "      <td>NaN</td>\n",
       "      <td>NaN</td>\n",
       "      <td>17</td>\n",
       "    </tr>\n",
       "    <tr>\n",
       "      <th>25</th>\n",
       "      <td>3.377473</td>\n",
       "      <td>0.109725</td>\n",
       "      <td>0.000000</td>\n",
       "      <td>0.000000</td>\n",
       "      <td>5</td>\n",
       "      <td>l1</td>\n",
       "      <td>80</td>\n",
       "      <td>{'logistic__C': 5, 'logistic__penalty': 'l1', ...</td>\n",
       "      <td>NaN</td>\n",
       "      <td>NaN</td>\n",
       "      <td>NaN</td>\n",
       "      <td>NaN</td>\n",
       "      <td>NaN</td>\n",
       "      <td>NaN</td>\n",
       "      <td>NaN</td>\n",
       "      <td>21</td>\n",
       "    </tr>\n",
       "    <tr>\n",
       "      <th>26</th>\n",
       "      <td>3.401492</td>\n",
       "      <td>0.039122</td>\n",
       "      <td>0.128666</td>\n",
       "      <td>0.014260</td>\n",
       "      <td>5</td>\n",
       "      <td>l2</td>\n",
       "      <td>60</td>\n",
       "      <td>{'logistic__C': 5, 'logistic__penalty': 'l2', ...</td>\n",
       "      <td>0.895718</td>\n",
       "      <td>0.904278</td>\n",
       "      <td>0.893798</td>\n",
       "      <td>0.887693</td>\n",
       "      <td>0.892943</td>\n",
       "      <td>0.894886</td>\n",
       "      <td>0.005396</td>\n",
       "      <td>10</td>\n",
       "    </tr>\n",
       "    <tr>\n",
       "      <th>27</th>\n",
       "      <td>4.378698</td>\n",
       "      <td>0.203878</td>\n",
       "      <td>0.106341</td>\n",
       "      <td>0.017391</td>\n",
       "      <td>5</td>\n",
       "      <td>l2</td>\n",
       "      <td>80</td>\n",
       "      <td>{'logistic__C': 5, 'logistic__penalty': 'l2', ...</td>\n",
       "      <td>0.899152</td>\n",
       "      <td>0.904782</td>\n",
       "      <td>0.896970</td>\n",
       "      <td>0.893773</td>\n",
       "      <td>0.898774</td>\n",
       "      <td>0.898690</td>\n",
       "      <td>0.003591</td>\n",
       "      <td>2</td>\n",
       "    </tr>\n",
       "    <tr>\n",
       "      <th>28</th>\n",
       "      <td>2.975508</td>\n",
       "      <td>0.249609</td>\n",
       "      <td>0.000000</td>\n",
       "      <td>0.000000</td>\n",
       "      <td>10</td>\n",
       "      <td>l1</td>\n",
       "      <td>60</td>\n",
       "      <td>{'logistic__C': 10, 'logistic__penalty': 'l1',...</td>\n",
       "      <td>NaN</td>\n",
       "      <td>NaN</td>\n",
       "      <td>NaN</td>\n",
       "      <td>NaN</td>\n",
       "      <td>NaN</td>\n",
       "      <td>NaN</td>\n",
       "      <td>NaN</td>\n",
       "      <td>19</td>\n",
       "    </tr>\n",
       "    <tr>\n",
       "      <th>29</th>\n",
       "      <td>3.413658</td>\n",
       "      <td>0.110931</td>\n",
       "      <td>0.000000</td>\n",
       "      <td>0.000000</td>\n",
       "      <td>10</td>\n",
       "      <td>l1</td>\n",
       "      <td>80</td>\n",
       "      <td>{'logistic__C': 10, 'logistic__penalty': 'l1',...</td>\n",
       "      <td>NaN</td>\n",
       "      <td>NaN</td>\n",
       "      <td>NaN</td>\n",
       "      <td>NaN</td>\n",
       "      <td>NaN</td>\n",
       "      <td>NaN</td>\n",
       "      <td>NaN</td>\n",
       "      <td>20</td>\n",
       "    </tr>\n",
       "    <tr>\n",
       "      <th>30</th>\n",
       "      <td>3.342250</td>\n",
       "      <td>0.101802</td>\n",
       "      <td>0.094572</td>\n",
       "      <td>0.013838</td>\n",
       "      <td>10</td>\n",
       "      <td>l2</td>\n",
       "      <td>60</td>\n",
       "      <td>{'logistic__C': 10, 'logistic__penalty': 'l2',...</td>\n",
       "      <td>0.894950</td>\n",
       "      <td>0.903522</td>\n",
       "      <td>0.893515</td>\n",
       "      <td>0.887062</td>\n",
       "      <td>0.893016</td>\n",
       "      <td>0.894413</td>\n",
       "      <td>0.005293</td>\n",
       "      <td>16</td>\n",
       "    </tr>\n",
       "    <tr>\n",
       "      <th>31</th>\n",
       "      <td>3.325878</td>\n",
       "      <td>0.255160</td>\n",
       "      <td>0.058259</td>\n",
       "      <td>0.013241</td>\n",
       "      <td>10</td>\n",
       "      <td>l2</td>\n",
       "      <td>80</td>\n",
       "      <td>{'logistic__C': 10, 'logistic__penalty': 'l2',...</td>\n",
       "      <td>0.898856</td>\n",
       "      <td>0.904247</td>\n",
       "      <td>0.896779</td>\n",
       "      <td>0.893254</td>\n",
       "      <td>0.898903</td>\n",
       "      <td>0.898408</td>\n",
       "      <td>0.003571</td>\n",
       "      <td>3</td>\n",
       "    </tr>\n",
       "  </tbody>\n",
       "</table>\n",
       "</div>"
      ],
      "text/plain": [
       "    mean_fit_time  std_fit_time  mean_score_time  std_score_time  \\\n",
       "0        4.723104      0.008432         0.000000        0.000000   \n",
       "1        3.712203      1.239682         0.000000        0.000000   \n",
       "2        3.287426      0.210118         0.246298        0.143047   \n",
       "3        3.956075      0.165842         0.102370        0.014593   \n",
       "4        2.836196      0.021769         0.000000        0.000000   \n",
       "5        3.357846      0.196729         0.000000        0.000000   \n",
       "6        3.555332      0.203452         0.106042        0.016249   \n",
       "7        4.581494      0.133472         0.099933        0.009594   \n",
       "8        2.841180      0.121390         0.000000        0.000000   \n",
       "9        3.548497      0.102535         0.000000        0.000000   \n",
       "10       3.376457      0.158312         0.112459        0.013599   \n",
       "11       4.242094      0.107117         0.101202        0.010560   \n",
       "12       2.791017      0.256088         0.000000        0.000000   \n",
       "13       3.460031      0.094080         0.000000        0.000000   \n",
       "14       3.678747      0.187149         0.104718        0.018777   \n",
       "15       4.362916      0.171592         0.108328        0.026121   \n",
       "16       2.702750      0.062117         0.000000        0.000000   \n",
       "17       3.575336      0.150604         0.000000        0.000000   \n",
       "18       3.596769      0.141901         0.100350        0.011871   \n",
       "19       4.336190      0.176241         0.103922        0.015974   \n",
       "20       2.901032      0.190885         0.000000        0.000000   \n",
       "21       3.567227      0.240895         0.000000        0.000000   \n",
       "22       3.481598      0.203130         0.108709        0.011612   \n",
       "23       4.215344      0.150975         0.105413        0.006300   \n",
       "24       2.775359      0.042535         0.000000        0.000000   \n",
       "25       3.377473      0.109725         0.000000        0.000000   \n",
       "26       3.401492      0.039122         0.128666        0.014260   \n",
       "27       4.378698      0.203878         0.106341        0.017391   \n",
       "28       2.975508      0.249609         0.000000        0.000000   \n",
       "29       3.413658      0.110931         0.000000        0.000000   \n",
       "30       3.342250      0.101802         0.094572        0.013838   \n",
       "31       3.325878      0.255160         0.058259        0.013241   \n",
       "\n",
       "   param_logistic__C param_logistic__penalty param_pca__n_components  \\\n",
       "0                0.1                      l1                      60   \n",
       "1                0.1                      l1                      80   \n",
       "2                0.1                      l2                      60   \n",
       "3                0.1                      l2                      80   \n",
       "4                0.5                      l1                      60   \n",
       "5                0.5                      l1                      80   \n",
       "6                0.5                      l2                      60   \n",
       "7                0.5                      l2                      80   \n",
       "8                  1                      l1                      60   \n",
       "9                  1                      l1                      80   \n",
       "10                 1                      l2                      60   \n",
       "11                 1                      l2                      80   \n",
       "12                 2                      l1                      60   \n",
       "13                 2                      l1                      80   \n",
       "14                 2                      l2                      60   \n",
       "15                 2                      l2                      80   \n",
       "16                 3                      l1                      60   \n",
       "17                 3                      l1                      80   \n",
       "18                 3                      l2                      60   \n",
       "19                 3                      l2                      80   \n",
       "20                 4                      l1                      60   \n",
       "21                 4                      l1                      80   \n",
       "22                 4                      l2                      60   \n",
       "23                 4                      l2                      80   \n",
       "24                 5                      l1                      60   \n",
       "25                 5                      l1                      80   \n",
       "26                 5                      l2                      60   \n",
       "27                 5                      l2                      80   \n",
       "28                10                      l1                      60   \n",
       "29                10                      l1                      80   \n",
       "30                10                      l2                      60   \n",
       "31                10                      l2                      80   \n",
       "\n",
       "                                               params  split0_test_score  \\\n",
       "0   {'logistic__C': 0.1, 'logistic__penalty': 'l1'...                NaN   \n",
       "1   {'logistic__C': 0.1, 'logistic__penalty': 'l1'...                NaN   \n",
       "2   {'logistic__C': 0.1, 'logistic__penalty': 'l2'...           0.897818   \n",
       "3   {'logistic__C': 0.1, 'logistic__penalty': 'l2'...           0.899702   \n",
       "4   {'logistic__C': 0.5, 'logistic__penalty': 'l1'...                NaN   \n",
       "5   {'logistic__C': 0.5, 'logistic__penalty': 'l1'...                NaN   \n",
       "6   {'logistic__C': 0.5, 'logistic__penalty': 'l2'...           0.896643   \n",
       "7   {'logistic__C': 0.5, 'logistic__penalty': 'l2'...           0.899579   \n",
       "8   {'logistic__C': 1, 'logistic__penalty': 'l1', ...                NaN   \n",
       "9   {'logistic__C': 1, 'logistic__penalty': 'l1', ...                NaN   \n",
       "10  {'logistic__C': 1, 'logistic__penalty': 'l2', ...           0.896129   \n",
       "11  {'logistic__C': 1, 'logistic__penalty': 'l2', ...           0.899367   \n",
       "12  {'logistic__C': 2, 'logistic__penalty': 'l1', ...                NaN   \n",
       "13  {'logistic__C': 2, 'logistic__penalty': 'l1', ...                NaN   \n",
       "14  {'logistic__C': 2, 'logistic__penalty': 'l2', ...           0.896252   \n",
       "15  {'logistic__C': 2, 'logistic__penalty': 'l2', ...           0.898626   \n",
       "16  {'logistic__C': 3, 'logistic__penalty': 'l1', ...                NaN   \n",
       "17  {'logistic__C': 3, 'logistic__penalty': 'l1', ...                NaN   \n",
       "18  {'logistic__C': 3, 'logistic__penalty': 'l2', ...           0.895922   \n",
       "19  {'logistic__C': 3, 'logistic__penalty': 'l2', ...           0.897907   \n",
       "20  {'logistic__C': 4, 'logistic__penalty': 'l1', ...                NaN   \n",
       "21  {'logistic__C': 4, 'logistic__penalty': 'l1', ...                NaN   \n",
       "22  {'logistic__C': 4, 'logistic__penalty': 'l2', ...           0.896643   \n",
       "23  {'logistic__C': 4, 'logistic__penalty': 'l2', ...           0.898445   \n",
       "24  {'logistic__C': 5, 'logistic__penalty': 'l1', ...                NaN   \n",
       "25  {'logistic__C': 5, 'logistic__penalty': 'l1', ...                NaN   \n",
       "26  {'logistic__C': 5, 'logistic__penalty': 'l2', ...           0.895718   \n",
       "27  {'logistic__C': 5, 'logistic__penalty': 'l2', ...           0.899152   \n",
       "28  {'logistic__C': 10, 'logistic__penalty': 'l1',...                NaN   \n",
       "29  {'logistic__C': 10, 'logistic__penalty': 'l1',...                NaN   \n",
       "30  {'logistic__C': 10, 'logistic__penalty': 'l2',...           0.894950   \n",
       "31  {'logistic__C': 10, 'logistic__penalty': 'l2',...           0.898856   \n",
       "\n",
       "    split1_test_score  split2_test_score  split3_test_score  \\\n",
       "0                 NaN                NaN                NaN   \n",
       "1                 NaN                NaN                NaN   \n",
       "2            0.903427           0.893342           0.887506   \n",
       "3            0.905214           0.896246           0.892206   \n",
       "4                 NaN                NaN                NaN   \n",
       "5                 NaN                NaN                NaN   \n",
       "6            0.905100           0.893835           0.888106   \n",
       "7            0.903619           0.896275           0.893015   \n",
       "8                 NaN                NaN                NaN   \n",
       "9                 NaN                NaN                NaN   \n",
       "10           0.902512           0.893135           0.888044   \n",
       "11           0.904492           0.896718           0.893922   \n",
       "12                NaN                NaN                NaN   \n",
       "13                NaN                NaN                NaN   \n",
       "14           0.903347           0.893319           0.887408   \n",
       "15           0.904415           0.896421           0.893588   \n",
       "16                NaN                NaN                NaN   \n",
       "17                NaN                NaN                NaN   \n",
       "18           0.903108           0.893596           0.888179   \n",
       "19           0.904761           0.895963           0.893663   \n",
       "20                NaN                NaN                NaN   \n",
       "21                NaN                NaN                NaN   \n",
       "22           0.901701           0.893490           0.888380   \n",
       "23           0.904406           0.896519           0.893471   \n",
       "24                NaN                NaN                NaN   \n",
       "25                NaN                NaN                NaN   \n",
       "26           0.904278           0.893798           0.887693   \n",
       "27           0.904782           0.896970           0.893773   \n",
       "28                NaN                NaN                NaN   \n",
       "29                NaN                NaN                NaN   \n",
       "30           0.903522           0.893515           0.887062   \n",
       "31           0.904247           0.896779           0.893254   \n",
       "\n",
       "    split4_test_score  mean_test_score  std_test_score  rank_test_score  \n",
       "0                 NaN              NaN             NaN               32  \n",
       "1                 NaN              NaN             NaN               18  \n",
       "2            0.891836         0.894786        0.005434               11  \n",
       "3            0.898160         0.898306        0.004269                5  \n",
       "4                 NaN              NaN             NaN               22  \n",
       "5                 NaN              NaN             NaN               30  \n",
       "6            0.892973         0.895331        0.005607                9  \n",
       "7            0.898770         0.898252        0.003526                7  \n",
       "8                 NaN              NaN             NaN               29  \n",
       "9                 NaN              NaN             NaN               28  \n",
       "10           0.892733         0.894511        0.004765               14  \n",
       "11           0.899099         0.898720        0.003490                1  \n",
       "12                NaN              NaN             NaN               27  \n",
       "13                NaN              NaN             NaN               26  \n",
       "14           0.892990         0.894663        0.005200               13  \n",
       "15           0.898957         0.898401        0.003567                4  \n",
       "16                NaN              NaN             NaN               25  \n",
       "17                NaN              NaN             NaN               23  \n",
       "18           0.892791         0.894719        0.004890               12  \n",
       "19           0.898688         0.898196        0.003714                8  \n",
       "20                NaN              NaN             NaN               24  \n",
       "21                NaN              NaN             NaN               31  \n",
       "22           0.892273         0.894497        0.004469               15  \n",
       "23           0.898443         0.898257        0.003572                6  \n",
       "24                NaN              NaN             NaN               17  \n",
       "25                NaN              NaN             NaN               21  \n",
       "26           0.892943         0.894886        0.005396               10  \n",
       "27           0.898774         0.898690        0.003591                2  \n",
       "28                NaN              NaN             NaN               19  \n",
       "29                NaN              NaN             NaN               20  \n",
       "30           0.893016         0.894413        0.005293               16  \n",
       "31           0.898903         0.898408        0.003571                3  "
      ]
     },
     "execution_count": 63,
     "metadata": {},
     "output_type": "execute_result"
    }
   ],
   "source": [
    "# cross validation results\n",
    "pd.DataFrame(model.cv_results_)"
   ]
  },
  {
   "cell_type": "code",
   "execution_count": 64,
   "metadata": {
    "colab": {},
    "colab_type": "code",
    "id": "CrQERCNKqujt",
    "outputId": "3585d781-322b-455b-d27a-cf16ff356d00"
   },
   "outputs": [
    {
     "name": "stdout",
     "output_type": "stream",
     "text": [
      "Best AUC:  0.8987195760888984\n",
      "Best hyperparameters:  {'logistic__C': 1, 'logistic__penalty': 'l2', 'pca__n_components': 80}\n"
     ]
    }
   ],
   "source": [
    "# print best hyperparameters\n",
    "print(\"Best AUC: \", model.best_score_)\n",
    "print(\"Best hyperparameters: \", model.best_params_)"
   ]
  },
  {
   "cell_type": "code",
   "execution_count": 65,
   "metadata": {
    "colab": {},
    "colab_type": "code",
    "id": "BFXuUg1Xquju",
    "outputId": "bcf6e362-94e1-4fac-80c3-7fa0d51d64a4"
   },
   "outputs": [],
   "source": [
    "# predict churn on test data\n",
    "y_pred = model.predict(X_test)"
   ]
  },
  {
   "cell_type": "code",
   "execution_count": 66,
   "metadata": {},
   "outputs": [
    {
     "name": "stdout",
     "output_type": "stream",
     "text": [
      "[[7089 1167]\n",
      " [ 145  585]]\n"
     ]
    }
   ],
   "source": [
    "# create onfusion matrix\n",
    "cm = confusion_matrix(y_test, y_pred)\n",
    "print(cm)"
   ]
  },
  {
   "cell_type": "code",
   "execution_count": 67,
   "metadata": {},
   "outputs": [
    {
     "name": "stdout",
     "output_type": "stream",
     "text": [
      "Sensitivity: \t0.8\n",
      "Specificity: \t0.86\n"
     ]
    }
   ],
   "source": [
    "# check sensitivity and specificity\n",
    "sensitivity, specificity, _ = sensitivity_specificity_support(y_test, y_pred, average='binary')\n",
    "print(\"Sensitivity: \\t\", round(sensitivity, 2), \"\\n\", \"Specificity: \\t\", round(specificity, 2), sep='')"
   ]
  },
  {
   "cell_type": "code",
   "execution_count": 68,
   "metadata": {},
   "outputs": [
    {
     "name": "stdout",
     "output_type": "stream",
     "text": [
      "AUC:    \t 0.9\n"
     ]
    }
   ],
   "source": [
    "# check area under curve\n",
    "y_pred_prob = model.predict_proba(X_test)[:, 1]\n",
    "print(\"AUC:    \\t\", round(roc_auc_score(y_test, y_pred_prob),2))"
   ]
  },
  {
   "cell_type": "markdown",
   "metadata": {
    "colab_type": "text",
    "id": "nN00VkDdqujw"
   },
   "source": [
    "### Random Forest"
   ]
  },
  {
   "cell_type": "code",
   "execution_count": 69,
   "metadata": {
    "colab": {},
    "colab_type": "code",
    "id": "ODy2Tmu2qujw"
   },
   "outputs": [],
   "source": [
    "# random forest - the class weight is used to handle class imbalance - it adjusts the cost function\n",
    "forest = RandomForestClassifier(class_weight={0:0.1, 1: 0.9}, n_jobs = -1)"
   ]
  },
  {
   "cell_type": "code",
   "execution_count": 70,
   "metadata": {},
   "outputs": [],
   "source": [
    "# hyperparameter space\n",
    "params = {\"criterion\": ['gini', 'entropy'], \"max_features\": ['auto', 0.4]}"
   ]
  },
  {
   "cell_type": "code",
   "execution_count": 71,
   "metadata": {},
   "outputs": [],
   "source": [
    "# create 5 folds\n",
    "folds = StratifiedKFold(n_splits = 5, shuffle = True, random_state = 4)"
   ]
  },
  {
   "cell_type": "code",
   "execution_count": 72,
   "metadata": {},
   "outputs": [],
   "source": [
    "# create gridsearch object\n",
    "model = GridSearchCV(estimator=forest, cv=folds, param_grid=params, scoring='roc_auc', n_jobs=-1, verbose=1)"
   ]
  },
  {
   "cell_type": "code",
   "execution_count": 73,
   "metadata": {
    "colab": {},
    "colab_type": "code",
    "id": "3f5Uuyg-qujx",
    "outputId": "19a4f7c4-4b8c-4784-b044-c0027204044f"
   },
   "outputs": [
    {
     "name": "stdout",
     "output_type": "stream",
     "text": [
      "Fitting 5 folds for each of 4 candidates, totalling 20 fits\n"
     ]
    },
    {
     "name": "stderr",
     "output_type": "stream",
     "text": [
      "[Parallel(n_jobs=-1)]: Using backend LokyBackend with 8 concurrent workers.\n",
      "[Parallel(n_jobs=-1)]: Done  20 out of  20 | elapsed:  4.0min finished\n"
     ]
    },
    {
     "data": {
      "text/plain": [
       "GridSearchCV(cv=StratifiedKFold(n_splits=5, random_state=4, shuffle=True),\n",
       "             error_score=nan,\n",
       "             estimator=RandomForestClassifier(bootstrap=True, ccp_alpha=0.0,\n",
       "                                              class_weight={0: 0.1, 1: 0.9},\n",
       "                                              criterion='gini', max_depth=None,\n",
       "                                              max_features='auto',\n",
       "                                              max_leaf_nodes=None,\n",
       "                                              max_samples=None,\n",
       "                                              min_impurity_decrease=0.0,\n",
       "                                              min_impurity_split=None,\n",
       "                                              min_samples_leaf=1,\n",
       "                                              min_samples_split=2,\n",
       "                                              min_weight_fraction_leaf=0.0,\n",
       "                                              n_estimators=100, n_jobs=-1,\n",
       "                                              oob_score=False,\n",
       "                                              random_state=None, verbose=0,\n",
       "                                              warm_start=False),\n",
       "             iid='deprecated', n_jobs=-1,\n",
       "             param_grid={'criterion': ['gini', 'entropy'],\n",
       "                         'max_features': ['auto', 0.4]},\n",
       "             pre_dispatch='2*n_jobs', refit=True, return_train_score=False,\n",
       "             scoring='roc_auc', verbose=1)"
      ]
     },
     "execution_count": 73,
     "metadata": {},
     "output_type": "execute_result"
    }
   ],
   "source": [
    "# fit model\n",
    "model.fit(X_train, y_train)"
   ]
  },
  {
   "cell_type": "code",
   "execution_count": 74,
   "metadata": {
    "colab": {},
    "colab_type": "code",
    "id": "_2BdOKuiqujz",
    "outputId": "1f79779a-8015-4c5a-dde4-0e3e77bf00ee",
    "scrolled": true
   },
   "outputs": [
    {
     "name": "stdout",
     "output_type": "stream",
     "text": [
      "Best AUC:  0.9281467188588424\n",
      "Best hyperparameters:  {'criterion': 'entropy', 'max_features': 0.4}\n"
     ]
    }
   ],
   "source": [
    "# print best hyperparameters\n",
    "print(\"Best AUC: \", model.best_score_)\n",
    "print(\"Best hyperparameters: \", model.best_params_)"
   ]
  },
  {
   "cell_type": "code",
   "execution_count": 75,
   "metadata": {
    "colab": {},
    "colab_type": "code",
    "id": "-7FcNJZ_quj0",
    "outputId": "586935d3-9c81-4f37-83cf-9727acdf5cc6"
   },
   "outputs": [],
   "source": [
    "# predict churn on test data\n",
    "y_pred = model.predict(X_test)"
   ]
  },
  {
   "cell_type": "code",
   "execution_count": 76,
   "metadata": {},
   "outputs": [
    {
     "name": "stdout",
     "output_type": "stream",
     "text": [
      "[[8136  120]\n",
      " [ 386  344]]\n"
     ]
    }
   ],
   "source": [
    "# create onfusion matrix\n",
    "cm = confusion_matrix(y_test, y_pred)\n",
    "print(cm)"
   ]
  },
  {
   "cell_type": "code",
   "execution_count": 77,
   "metadata": {},
   "outputs": [
    {
     "name": "stdout",
     "output_type": "stream",
     "text": [
      "Sensitivity: \t0.47\n",
      "Specificity: \t0.99\n"
     ]
    }
   ],
   "source": [
    "# check sensitivity and specificity\n",
    "sensitivity, specificity, _ = sensitivity_specificity_support(y_test, y_pred, average='binary')\n",
    "print(\"Sensitivity: \\t\", round(sensitivity, 2), \"\\n\", \"Specificity: \\t\", round(specificity, 2), sep='')\n"
   ]
  },
  {
   "cell_type": "code",
   "execution_count": 78,
   "metadata": {},
   "outputs": [
    {
     "name": "stdout",
     "output_type": "stream",
     "text": [
      "AUC:    \t 0.93\n"
     ]
    }
   ],
   "source": [
    "# check area under curve\n",
    "y_pred_prob = model.predict_proba(X_test)[:, 1]\n",
    "print(\"AUC:    \\t\", round(roc_auc_score(y_test, y_pred_prob),2))"
   ]
  },
  {
   "cell_type": "markdown",
   "metadata": {
    "colab_type": "text",
    "id": "cIyCx_OOquj1"
   },
   "source": [
    "`Inference`\n",
    "\n",
    "*So, when we analyse the scores of both the models, we can understand that Random forest has poor sensitivity. So, we can safely say that PCA along with Logistic regression will be the best model for this analysis*"
   ]
  },
  {
   "cell_type": "markdown",
   "metadata": {
    "colab_type": "text",
    "id": "icm5z0wnquj1"
   },
   "source": [
    "## Choosing best features"
   ]
  },
  {
   "cell_type": "code",
   "execution_count": 79,
   "metadata": {
    "colab": {},
    "colab_type": "code",
    "id": "STWBS5x0quj1",
    "outputId": "b5aa6f7d-0b20-4e2f-d9ae-530e61a4043c"
   },
   "outputs": [
    {
     "name": "stdout",
     "output_type": "stream",
     "text": [
      "13\n"
     ]
    }
   ],
   "source": [
    "# run a random forest model on train data\n",
    "max_features = int(round(np.sqrt(X_train.shape[1])))    # number of variables to consider to split each node\n",
    "print(max_features)\n",
    "\n",
    "rf_model = RandomForestClassifier(n_estimators=100, max_features=max_features, class_weight={0:0.1, 1: 0.9}, oob_score=True, random_state=4, verbose=1)"
   ]
  },
  {
   "cell_type": "code",
   "execution_count": 80,
   "metadata": {
    "colab": {},
    "colab_type": "code",
    "id": "Zj7fd8KNquj4",
    "outputId": "40376663-91e3-4658-ae91-a0d07b3694de"
   },
   "outputs": [
    {
     "name": "stderr",
     "output_type": "stream",
     "text": [
      "[Parallel(n_jobs=1)]: Using backend SequentialBackend with 1 concurrent workers.\n",
      "[Parallel(n_jobs=1)]: Done 100 out of 100 | elapsed:   25.8s finished\n"
     ]
    },
    {
     "data": {
      "text/plain": [
       "RandomForestClassifier(bootstrap=True, ccp_alpha=0.0,\n",
       "                       class_weight={0: 0.1, 1: 0.9}, criterion='gini',\n",
       "                       max_depth=None, max_features=13, max_leaf_nodes=None,\n",
       "                       max_samples=None, min_impurity_decrease=0.0,\n",
       "                       min_impurity_split=None, min_samples_leaf=1,\n",
       "                       min_samples_split=2, min_weight_fraction_leaf=0.0,\n",
       "                       n_estimators=100, n_jobs=None, oob_score=True,\n",
       "                       random_state=4, verbose=1, warm_start=False)"
      ]
     },
     "execution_count": 80,
     "metadata": {},
     "output_type": "execute_result"
    }
   ],
   "source": [
    "# fit model\n",
    "rf_model.fit(X_train, y_train)"
   ]
  },
  {
   "cell_type": "code",
   "execution_count": 81,
   "metadata": {
    "colab": {},
    "colab_type": "code",
    "id": "Stavaroequj6",
    "outputId": "fbb363a0-ee07-4ca5-a245-73a16fb31027"
   },
   "outputs": [
    {
     "data": {
      "text/plain": [
       "0.9436256975246816"
      ]
     },
     "execution_count": 81,
     "metadata": {},
     "output_type": "execute_result"
    }
   ],
   "source": [
    "# OOB score\n",
    "rf_model.oob_score_"
   ]
  },
  {
   "cell_type": "code",
   "execution_count": 82,
   "metadata": {
    "colab": {},
    "colab_type": "code",
    "id": "r6JfnMAxquj7",
    "outputId": "b2671b60-5a35-41f1-97e7-96c274947380"
   },
   "outputs": [
    {
     "name": "stderr",
     "output_type": "stream",
     "text": [
      "[Parallel(n_jobs=1)]: Using backend SequentialBackend with 1 concurrent workers.\n",
      "[Parallel(n_jobs=1)]: Done 100 out of 100 | elapsed:    0.3s finished\n"
     ]
    }
   ],
   "source": [
    "# predict churn on test data\n",
    "y_pred = rf_model.predict(X_test)"
   ]
  },
  {
   "cell_type": "code",
   "execution_count": 83,
   "metadata": {},
   "outputs": [
    {
     "name": "stdout",
     "output_type": "stream",
     "text": [
      "[[8150  106]\n",
      " [ 405  325]]\n"
     ]
    }
   ],
   "source": [
    "# create onfusion matrix\n",
    "cm = confusion_matrix(y_test, y_pred)\n",
    "print(cm)\n"
   ]
  },
  {
   "cell_type": "code",
   "execution_count": 84,
   "metadata": {},
   "outputs": [
    {
     "name": "stdout",
     "output_type": "stream",
     "text": [
      "Sensitivity: \t0.45\n",
      "Specificity: \t0.99\n"
     ]
    }
   ],
   "source": [
    "# check sensitivity and specificity\n",
    "sensitivity, specificity, _ = sensitivity_specificity_support(y_test, y_pred, average='binary')\n",
    "print(\"Sensitivity: \\t\", round(sensitivity, 2), \"\\n\", \"Specificity: \\t\", round(specificity, 2), sep='')"
   ]
  },
  {
   "cell_type": "code",
   "execution_count": 85,
   "metadata": {},
   "outputs": [
    {
     "name": "stderr",
     "output_type": "stream",
     "text": [
      "[Parallel(n_jobs=1)]: Using backend SequentialBackend with 1 concurrent workers.\n"
     ]
    },
    {
     "name": "stdout",
     "output_type": "stream",
     "text": [
      "ROC:    \t 0.93\n"
     ]
    },
    {
     "name": "stderr",
     "output_type": "stream",
     "text": [
      "[Parallel(n_jobs=1)]: Done 100 out of 100 | elapsed:    0.2s finished\n"
     ]
    }
   ],
   "source": [
    "# check area under curve\n",
    "y_pred_prob = rf_model.predict_proba(X_test)[:, 1]\n",
    "print(\"ROC:    \\t\", round(roc_auc_score(y_test, y_pred_prob),2))"
   ]
  },
  {
   "cell_type": "markdown",
   "metadata": {
    "colab_type": "text",
    "id": "LlqKsjavquj8"
   },
   "source": [
    "### Feature Importance"
   ]
  },
  {
   "cell_type": "code",
   "execution_count": 86,
   "metadata": {
    "colab": {},
    "colab_type": "code",
    "id": "P9WU5jp9quj-",
    "outputId": "d194ac29-ca67-4909-b841-9d862580e5bc",
    "scrolled": false
   },
   "outputs": [
    {
     "name": "stdout",
     "output_type": "stream",
     "text": [
      "Sum of importance= 99.99999999999999\n"
     ]
    },
    {
     "data": {
      "text/html": [
       "<div>\n",
       "<style scoped>\n",
       "    .dataframe tbody tr th:only-of-type {\n",
       "        vertical-align: middle;\n",
       "    }\n",
       "\n",
       "    .dataframe tbody tr th {\n",
       "        vertical-align: top;\n",
       "    }\n",
       "\n",
       "    .dataframe thead th {\n",
       "        text-align: right;\n",
       "    }\n",
       "</style>\n",
       "<table border=\"1\" class=\"dataframe\">\n",
       "  <thead>\n",
       "    <tr style=\"text-align: right;\">\n",
       "      <th></th>\n",
       "      <th>variables</th>\n",
       "      <th>importance_percentage</th>\n",
       "    </tr>\n",
       "  </thead>\n",
       "  <tbody>\n",
       "    <tr>\n",
       "      <th>0</th>\n",
       "      <td>total_og_mou_8</td>\n",
       "      <td>4.553688</td>\n",
       "    </tr>\n",
       "    <tr>\n",
       "      <th>1</th>\n",
       "      <td>loc_ic_t2t_mou_8</td>\n",
       "      <td>4.410740</td>\n",
       "    </tr>\n",
       "    <tr>\n",
       "      <th>2</th>\n",
       "      <td>loc_ic_mou_8</td>\n",
       "      <td>3.956715</td>\n",
       "    </tr>\n",
       "    <tr>\n",
       "      <th>3</th>\n",
       "      <td>loc_ic_t2m_mou_8</td>\n",
       "      <td>3.668150</td>\n",
       "    </tr>\n",
       "    <tr>\n",
       "      <th>4</th>\n",
       "      <td>total_ic_mou_8</td>\n",
       "      <td>3.464227</td>\n",
       "    </tr>\n",
       "    <tr>\n",
       "      <th>5</th>\n",
       "      <td>arpu_diff</td>\n",
       "      <td>2.821215</td>\n",
       "    </tr>\n",
       "    <tr>\n",
       "      <th>6</th>\n",
       "      <td>last_day_rch_amt_8</td>\n",
       "      <td>2.543840</td>\n",
       "    </tr>\n",
       "    <tr>\n",
       "      <th>7</th>\n",
       "      <td>total_rech_amt_diff</td>\n",
       "      <td>2.212163</td>\n",
       "    </tr>\n",
       "    <tr>\n",
       "      <th>8</th>\n",
       "      <td>total_rech_amt_8</td>\n",
       "      <td>2.018605</td>\n",
       "    </tr>\n",
       "    <tr>\n",
       "      <th>9</th>\n",
       "      <td>loc_og_t2m_mou_8</td>\n",
       "      <td>2.001013</td>\n",
       "    </tr>\n",
       "    <tr>\n",
       "      <th>10</th>\n",
       "      <td>total_og_mou_diff</td>\n",
       "      <td>1.985527</td>\n",
       "    </tr>\n",
       "    <tr>\n",
       "      <th>11</th>\n",
       "      <td>std_ic_mou_8</td>\n",
       "      <td>1.969429</td>\n",
       "    </tr>\n",
       "    <tr>\n",
       "      <th>12</th>\n",
       "      <td>total_ic_mou_diff</td>\n",
       "      <td>1.936777</td>\n",
       "    </tr>\n",
       "    <tr>\n",
       "      <th>13</th>\n",
       "      <td>arpu_8</td>\n",
       "      <td>1.817235</td>\n",
       "    </tr>\n",
       "    <tr>\n",
       "      <th>14</th>\n",
       "      <td>max_rech_amt_8</td>\n",
       "      <td>1.816972</td>\n",
       "    </tr>\n",
       "    <tr>\n",
       "      <th>15</th>\n",
       "      <td>loc_og_mou_8</td>\n",
       "      <td>1.768397</td>\n",
       "    </tr>\n",
       "    <tr>\n",
       "      <th>16</th>\n",
       "      <td>loc_og_t2t_mou_8</td>\n",
       "      <td>1.692958</td>\n",
       "    </tr>\n",
       "    <tr>\n",
       "      <th>17</th>\n",
       "      <td>roam_og_mou_8</td>\n",
       "      <td>1.582044</td>\n",
       "    </tr>\n",
       "    <tr>\n",
       "      <th>18</th>\n",
       "      <td>loc_ic_mou_diff</td>\n",
       "      <td>1.394809</td>\n",
       "    </tr>\n",
       "    <tr>\n",
       "      <th>19</th>\n",
       "      <td>av_rech_amt_data_8</td>\n",
       "      <td>1.362205</td>\n",
       "    </tr>\n",
       "    <tr>\n",
       "      <th>20</th>\n",
       "      <td>max_rech_amt_diff</td>\n",
       "      <td>1.324671</td>\n",
       "    </tr>\n",
       "    <tr>\n",
       "      <th>21</th>\n",
       "      <td>total_rech_num_diff</td>\n",
       "      <td>1.279887</td>\n",
       "    </tr>\n",
       "    <tr>\n",
       "      <th>22</th>\n",
       "      <td>roam_ic_mou_8</td>\n",
       "      <td>1.278932</td>\n",
       "    </tr>\n",
       "    <tr>\n",
       "      <th>23</th>\n",
       "      <td>std_og_mou_diff</td>\n",
       "      <td>1.230703</td>\n",
       "    </tr>\n",
       "    <tr>\n",
       "      <th>24</th>\n",
       "      <td>roam_og_mou_diff</td>\n",
       "      <td>1.201690</td>\n",
       "    </tr>\n",
       "    <tr>\n",
       "      <th>25</th>\n",
       "      <td>std_ic_t2m_mou_8</td>\n",
       "      <td>0.980898</td>\n",
       "    </tr>\n",
       "    <tr>\n",
       "      <th>26</th>\n",
       "      <td>loc_og_t2f_mou_8</td>\n",
       "      <td>0.960162</td>\n",
       "    </tr>\n",
       "    <tr>\n",
       "      <th>27</th>\n",
       "      <td>roam_ic_mou_diff</td>\n",
       "      <td>0.909440</td>\n",
       "    </tr>\n",
       "    <tr>\n",
       "      <th>28</th>\n",
       "      <td>offnet_mou_8</td>\n",
       "      <td>0.834594</td>\n",
       "    </tr>\n",
       "    <tr>\n",
       "      <th>29</th>\n",
       "      <td>vol_2g_mb_8</td>\n",
       "      <td>0.831326</td>\n",
       "    </tr>\n",
       "    <tr>\n",
       "      <th>...</th>\n",
       "      <td>...</td>\n",
       "      <td>...</td>\n",
       "    </tr>\n",
       "    <tr>\n",
       "      <th>139</th>\n",
       "      <td>sachet_2g_8</td>\n",
       "      <td>0.137962</td>\n",
       "    </tr>\n",
       "    <tr>\n",
       "      <th>140</th>\n",
       "      <td>std_ic_t2f_mou_6</td>\n",
       "      <td>0.132801</td>\n",
       "    </tr>\n",
       "    <tr>\n",
       "      <th>141</th>\n",
       "      <td>std_ic_t2f_mou_7</td>\n",
       "      <td>0.126342</td>\n",
       "    </tr>\n",
       "    <tr>\n",
       "      <th>142</th>\n",
       "      <td>isd_ic_mou_8</td>\n",
       "      <td>0.119744</td>\n",
       "    </tr>\n",
       "    <tr>\n",
       "      <th>143</th>\n",
       "      <td>total_rech_data_6</td>\n",
       "      <td>0.116494</td>\n",
       "    </tr>\n",
       "    <tr>\n",
       "      <th>144</th>\n",
       "      <td>std_og_t2f_mou_6</td>\n",
       "      <td>0.108652</td>\n",
       "    </tr>\n",
       "    <tr>\n",
       "      <th>145</th>\n",
       "      <td>sachet_2g_7</td>\n",
       "      <td>0.098941</td>\n",
       "    </tr>\n",
       "    <tr>\n",
       "      <th>146</th>\n",
       "      <td>std_og_t2f_mou_7</td>\n",
       "      <td>0.097482</td>\n",
       "    </tr>\n",
       "    <tr>\n",
       "      <th>147</th>\n",
       "      <td>isd_og_mou_6</td>\n",
       "      <td>0.093746</td>\n",
       "    </tr>\n",
       "    <tr>\n",
       "      <th>148</th>\n",
       "      <td>isd_og_mou_7</td>\n",
       "      <td>0.091169</td>\n",
       "    </tr>\n",
       "    <tr>\n",
       "      <th>149</th>\n",
       "      <td>sachet_2g_6</td>\n",
       "      <td>0.079201</td>\n",
       "    </tr>\n",
       "    <tr>\n",
       "      <th>150</th>\n",
       "      <td>isd_og_mou_8</td>\n",
       "      <td>0.070641</td>\n",
       "    </tr>\n",
       "    <tr>\n",
       "      <th>151</th>\n",
       "      <td>std_og_t2f_mou_8</td>\n",
       "      <td>0.065626</td>\n",
       "    </tr>\n",
       "    <tr>\n",
       "      <th>152</th>\n",
       "      <td>avg_rech_decile</td>\n",
       "      <td>0.064686</td>\n",
       "    </tr>\n",
       "    <tr>\n",
       "      <th>153</th>\n",
       "      <td>fb_user_7</td>\n",
       "      <td>0.064572</td>\n",
       "    </tr>\n",
       "    <tr>\n",
       "      <th>154</th>\n",
       "      <td>spl_ic_mou_7</td>\n",
       "      <td>0.063427</td>\n",
       "    </tr>\n",
       "    <tr>\n",
       "      <th>155</th>\n",
       "      <td>monthly_2g_6</td>\n",
       "      <td>0.060341</td>\n",
       "    </tr>\n",
       "    <tr>\n",
       "      <th>156</th>\n",
       "      <td>sachet_3g_7</td>\n",
       "      <td>0.056708</td>\n",
       "    </tr>\n",
       "    <tr>\n",
       "      <th>157</th>\n",
       "      <td>sachet_3g_6</td>\n",
       "      <td>0.056321</td>\n",
       "    </tr>\n",
       "    <tr>\n",
       "      <th>158</th>\n",
       "      <td>fb_user_6</td>\n",
       "      <td>0.054564</td>\n",
       "    </tr>\n",
       "    <tr>\n",
       "      <th>159</th>\n",
       "      <td>monthly_3g_6</td>\n",
       "      <td>0.051260</td>\n",
       "    </tr>\n",
       "    <tr>\n",
       "      <th>160</th>\n",
       "      <td>monthly_2g_7</td>\n",
       "      <td>0.049771</td>\n",
       "    </tr>\n",
       "    <tr>\n",
       "      <th>161</th>\n",
       "      <td>monthly_3g_7</td>\n",
       "      <td>0.046390</td>\n",
       "    </tr>\n",
       "    <tr>\n",
       "      <th>162</th>\n",
       "      <td>night_pck_user_7</td>\n",
       "      <td>0.042139</td>\n",
       "    </tr>\n",
       "    <tr>\n",
       "      <th>163</th>\n",
       "      <td>night_pck_user_6</td>\n",
       "      <td>0.040046</td>\n",
       "    </tr>\n",
       "    <tr>\n",
       "      <th>164</th>\n",
       "      <td>sachet_3g_8</td>\n",
       "      <td>0.038852</td>\n",
       "    </tr>\n",
       "    <tr>\n",
       "      <th>165</th>\n",
       "      <td>monthly_3g_8</td>\n",
       "      <td>0.035624</td>\n",
       "    </tr>\n",
       "    <tr>\n",
       "      <th>166</th>\n",
       "      <td>monthly_2g_8</td>\n",
       "      <td>0.034125</td>\n",
       "    </tr>\n",
       "    <tr>\n",
       "      <th>167</th>\n",
       "      <td>og_others_7</td>\n",
       "      <td>0.014797</td>\n",
       "    </tr>\n",
       "    <tr>\n",
       "      <th>168</th>\n",
       "      <td>og_others_8</td>\n",
       "      <td>0.004094</td>\n",
       "    </tr>\n",
       "  </tbody>\n",
       "</table>\n",
       "<p>169 rows × 2 columns</p>\n",
       "</div>"
      ],
      "text/plain": [
       "               variables  importance_percentage\n",
       "0         total_og_mou_8               4.553688\n",
       "1       loc_ic_t2t_mou_8               4.410740\n",
       "2           loc_ic_mou_8               3.956715\n",
       "3       loc_ic_t2m_mou_8               3.668150\n",
       "4         total_ic_mou_8               3.464227\n",
       "5              arpu_diff               2.821215\n",
       "6     last_day_rch_amt_8               2.543840\n",
       "7    total_rech_amt_diff               2.212163\n",
       "8       total_rech_amt_8               2.018605\n",
       "9       loc_og_t2m_mou_8               2.001013\n",
       "10     total_og_mou_diff               1.985527\n",
       "11          std_ic_mou_8               1.969429\n",
       "12     total_ic_mou_diff               1.936777\n",
       "13                arpu_8               1.817235\n",
       "14        max_rech_amt_8               1.816972\n",
       "15          loc_og_mou_8               1.768397\n",
       "16      loc_og_t2t_mou_8               1.692958\n",
       "17         roam_og_mou_8               1.582044\n",
       "18       loc_ic_mou_diff               1.394809\n",
       "19    av_rech_amt_data_8               1.362205\n",
       "20     max_rech_amt_diff               1.324671\n",
       "21   total_rech_num_diff               1.279887\n",
       "22         roam_ic_mou_8               1.278932\n",
       "23       std_og_mou_diff               1.230703\n",
       "24      roam_og_mou_diff               1.201690\n",
       "25      std_ic_t2m_mou_8               0.980898\n",
       "26      loc_og_t2f_mou_8               0.960162\n",
       "27      roam_ic_mou_diff               0.909440\n",
       "28          offnet_mou_8               0.834594\n",
       "29           vol_2g_mb_8               0.831326\n",
       "..                   ...                    ...\n",
       "139          sachet_2g_8               0.137962\n",
       "140     std_ic_t2f_mou_6               0.132801\n",
       "141     std_ic_t2f_mou_7               0.126342\n",
       "142         isd_ic_mou_8               0.119744\n",
       "143    total_rech_data_6               0.116494\n",
       "144     std_og_t2f_mou_6               0.108652\n",
       "145          sachet_2g_7               0.098941\n",
       "146     std_og_t2f_mou_7               0.097482\n",
       "147         isd_og_mou_6               0.093746\n",
       "148         isd_og_mou_7               0.091169\n",
       "149          sachet_2g_6               0.079201\n",
       "150         isd_og_mou_8               0.070641\n",
       "151     std_og_t2f_mou_8               0.065626\n",
       "152      avg_rech_decile               0.064686\n",
       "153            fb_user_7               0.064572\n",
       "154         spl_ic_mou_7               0.063427\n",
       "155         monthly_2g_6               0.060341\n",
       "156          sachet_3g_7               0.056708\n",
       "157          sachet_3g_6               0.056321\n",
       "158            fb_user_6               0.054564\n",
       "159         monthly_3g_6               0.051260\n",
       "160         monthly_2g_7               0.049771\n",
       "161         monthly_3g_7               0.046390\n",
       "162     night_pck_user_7               0.042139\n",
       "163     night_pck_user_6               0.040046\n",
       "164          sachet_3g_8               0.038852\n",
       "165         monthly_3g_8               0.035624\n",
       "166         monthly_2g_8               0.034125\n",
       "167          og_others_7               0.014797\n",
       "168          og_others_8               0.004094\n",
       "\n",
       "[169 rows x 2 columns]"
      ]
     },
     "execution_count": 86,
     "metadata": {},
     "output_type": "execute_result"
    }
   ],
   "source": [
    "# predictors\n",
    "features = High_Value_Customer.drop('churn', axis=1).columns\n",
    "\n",
    "# feature_importance\n",
    "importance = rf_model.feature_importances_\n",
    "\n",
    "# create dataframe\n",
    "feature_importance = pd.DataFrame({'variables': features, 'importance_percentage': importance*100})\n",
    "feature_importance = feature_importance[['variables', 'importance_percentage']]\n",
    "\n",
    "# sort features\n",
    "feature_importance = feature_importance.sort_values('importance_percentage', ascending=False).reset_index(drop=True)\n",
    "print(\"Sum of importance=\", feature_importance.importance_percentage.sum())\n",
    "feature_importance"
   ]
  },
  {
   "cell_type": "markdown",
   "metadata": {
    "colab_type": "text",
    "id": "HV_zjkSpqukA"
   },
   "source": [
    "### Extracting top 30 features"
   ]
  },
  {
   "cell_type": "code",
   "execution_count": 87,
   "metadata": {
    "colab": {},
    "colab_type": "code",
    "id": "LJlXsNrDqukA"
   },
   "outputs": [],
   "source": [
    "# extract top 'n' features\n",
    "top_n = 30\n",
    "top_features = feature_importance.variables[0:top_n]"
   ]
  },
  {
   "cell_type": "code",
   "execution_count": 88,
   "metadata": {
    "colab": {},
    "colab_type": "code",
    "id": "ndLkpgfcqukD",
    "outputId": "915c0228-47f6-49b7-e021-4ac3fb2c6a7f"
   },
   "outputs": [
    {
     "data": {
      "text/plain": [
       "<matplotlib.axes._subplots.AxesSubplot at 0x28019f525c0>"
      ]
     },
     "execution_count": 88,
     "metadata": {},
     "output_type": "execute_result"
    },
    {
     "data": {
      "image/png": "[encoded data removed]",
      "text/plain": [
       "<Figure size 720x720 with 2 Axes>"
      ]
     },
     "metadata": {
      "needs_background": "light"
     },
     "output_type": "display_data"
    }
   ],
   "source": [
    "# plot feature correlation\n",
    "\n",
    "plt.rcParams[\"figure.figsize\"] =(10,10)\n",
    "mycmap = sns.diverging_palette(199, 359, s=99, center=\"light\", as_cmap=True)\n",
    "sns.heatmap(data=X_train[top_features].corr(), center=0.0, cmap=mycmap)"
   ]
  },
  {
   "cell_type": "code",
   "execution_count": 89,
   "metadata": {
    "colab": {},
    "colab_type": "code",
    "id": "v3ukWI4wqukE"
   },
   "outputs": [],
   "source": [
    "top_features = ['total_ic_mou_8', 'total_rech_amt_diff', 'total_og_mou_8', 'arpu_8', 'roam_ic_mou_8', 'roam_og_mou_8', \n",
    "                'std_ic_mou_8', 'av_rech_amt_data_8', 'std_og_mou_8']\n",
    "X_train = X_train[top_features]\n",
    "X_test = X_test[top_features]"
   ]
  },
  {
   "cell_type": "code",
   "execution_count": 90,
   "metadata": {
    "colab": {},
    "colab_type": "code",
    "id": "J-M_VffrqukF"
   },
   "outputs": [],
   "source": [
    "# logistic regression\n",
    "steps = [('scaler', StandardScaler()), (\"logistic\", LogisticRegression(class_weight={0:0.1, 1:0.9}))]\n",
    "\n",
    "# compile pipeline\n",
    "logistic = Pipeline(steps)\n",
    "\n",
    "# hyperparameter space\n",
    "params = {'logistic__C': [0.1, 0.5, 1, 2, 3, 4, 5, 10], 'logistic__penalty': ['l1', 'l2']}\n",
    "\n",
    "# create 5 folds\n",
    "folds = StratifiedKFold(n_splits = 5, shuffle = True, random_state = 4)\n",
    "\n",
    "# create gridsearch object\n",
    "model = GridSearchCV(estimator=logistic, cv=folds, param_grid=params, scoring='roc_auc', n_jobs=-1, verbose=1)"
   ]
  },
  {
   "cell_type": "code",
   "execution_count": 91,
   "metadata": {
    "colab": {},
    "colab_type": "code",
    "id": "p7LrsWNPqukI",
    "outputId": "83d89dff-9c7c-447f-8bfa-c65cef341b60"
   },
   "outputs": [
    {
     "name": "stdout",
     "output_type": "stream",
     "text": [
      "Fitting 5 folds for each of 16 candidates, totalling 80 fits\n"
     ]
    },
    {
     "name": "stderr",
     "output_type": "stream",
     "text": [
      "[Parallel(n_jobs=-1)]: Using backend LokyBackend with 8 concurrent workers.\n",
      "[Parallel(n_jobs=-1)]: Done  80 out of  80 | elapsed:    1.5s finished\n"
     ]
    },
    {
     "data": {
      "text/plain": [
       "GridSearchCV(cv=StratifiedKFold(n_splits=5, random_state=4, shuffle=True),\n",
       "             error_score=nan,\n",
       "             estimator=Pipeline(memory=None,\n",
       "                                steps=[('scaler',\n",
       "                                        StandardScaler(copy=True,\n",
       "                                                       with_mean=True,\n",
       "                                                       with_std=True)),\n",
       "                                       ('logistic',\n",
       "                                        LogisticRegression(C=1.0,\n",
       "                                                           class_weight={0: 0.1,\n",
       "                                                                         1: 0.9},\n",
       "                                                           dual=False,\n",
       "                                                           fit_intercept=True,\n",
       "                                                           intercept_scaling=1,\n",
       "                                                           l1_ratio=None,\n",
       "                                                           max_iter=100,\n",
       "                                                           multi_class='auto',\n",
       "                                                           n_jobs=None,\n",
       "                                                           penalty='l2',\n",
       "                                                           random_state=None,\n",
       "                                                           solver='lbfgs',\n",
       "                                                           tol=0.0001,\n",
       "                                                           verbose=0,\n",
       "                                                           warm_start=False))],\n",
       "                                verbose=False),\n",
       "             iid='deprecated', n_jobs=-1,\n",
       "             param_grid={'logistic__C': [0.1, 0.5, 1, 2, 3, 4, 5, 10],\n",
       "                         'logistic__penalty': ['l1', 'l2']},\n",
       "             pre_dispatch='2*n_jobs', refit=True, return_train_score=False,\n",
       "             scoring='roc_auc', verbose=1)"
      ]
     },
     "execution_count": 91,
     "metadata": {},
     "output_type": "execute_result"
    }
   ],
   "source": [
    "# fit model\n",
    "model.fit(X_train, y_train)"
   ]
  },
  {
   "cell_type": "code",
   "execution_count": 92,
   "metadata": {
    "colab": {},
    "colab_type": "code",
    "id": "cLIdgc_1qukJ",
    "outputId": "c52add7f-da10-432d-cc50-12172b6b397b"
   },
   "outputs": [
    {
     "name": "stdout",
     "output_type": "stream",
     "text": [
      "Best AUC:  0.8732722602061866\n",
      "Best hyperparameters:  {'logistic__C': 10, 'logistic__penalty': 'l2'}\n"
     ]
    }
   ],
   "source": [
    "# print best hyperparameters\n",
    "print(\"Best AUC: \", model.best_score_)\n",
    "print(\"Best hyperparameters: \", model.best_params_)"
   ]
  },
  {
   "cell_type": "code",
   "execution_count": 93,
   "metadata": {
    "colab": {},
    "colab_type": "code",
    "id": "fHxDYV_4qukK",
    "outputId": "6e3a8332-1ea2-4be9-d2b1-90b507f6ddf9"
   },
   "outputs": [],
   "source": [
    "# predict churn on test data\n",
    "y_pred = model.predict(X_test)"
   ]
  },
  {
   "cell_type": "code",
   "execution_count": 94,
   "metadata": {},
   "outputs": [
    {
     "name": "stdout",
     "output_type": "stream",
     "text": [
      "[[6937 1319]\n",
      " [ 144  586]]\n"
     ]
    }
   ],
   "source": [
    "# create onfusion matrix\n",
    "cm = confusion_matrix(y_test, y_pred)\n",
    "print(cm)"
   ]
  },
  {
   "cell_type": "code",
   "execution_count": 95,
   "metadata": {},
   "outputs": [
    {
     "name": "stdout",
     "output_type": "stream",
     "text": [
      "Sensitivity: \t0.8\n",
      "Specificity: \t0.84\n"
     ]
    }
   ],
   "source": [
    "# check sensitivity and specificity\n",
    "sensitivity, specificity, _ = sensitivity_specificity_support(y_test, y_pred, average='binary')\n",
    "print(\"Sensitivity: \\t\", round(sensitivity, 2), \"\\n\", \"Specificity: \\t\", round(specificity, 2), sep='')"
   ]
  },
  {
   "cell_type": "code",
   "execution_count": 96,
   "metadata": {},
   "outputs": [
    {
     "name": "stdout",
     "output_type": "stream",
     "text": [
      "ROC:    \t 0.88\n"
     ]
    }
   ],
   "source": [
    "# check area under curve\n",
    "y_pred_prob = model.predict_proba(X_test)[:, 1]\n",
    "print(\"ROC:    \\t\", round(roc_auc_score(y_test, y_pred_prob),2))"
   ]
  },
  {
   "cell_type": "markdown",
   "metadata": {
    "colab_type": "text",
    "id": "asoH75gyqukL"
   },
   "source": [
    "### Extract the intercept and the coefficients from the logistic model "
   ]
  },
  {
   "cell_type": "code",
   "execution_count": 97,
   "metadata": {
    "colab": {},
    "colab_type": "code",
    "id": "FDwl27yiqukL"
   },
   "outputs": [],
   "source": [
    "logistic_model = model.best_estimator_.named_steps['logistic']"
   ]
  },
  {
   "cell_type": "code",
   "execution_count": 98,
   "metadata": {
    "colab": {},
    "colab_type": "code",
    "id": "IOOF20q1qukM"
   },
   "outputs": [],
   "source": [
    "# intercept\n",
    "intercept_df = pd.DataFrame(logistic_model.intercept_.reshape((1,1)), columns = ['intercept'])"
   ]
  },
  {
   "cell_type": "code",
   "execution_count": 99,
   "metadata": {
    "colab": {},
    "colab_type": "code",
    "id": "L5hb2IBjqukN"
   },
   "outputs": [],
   "source": [
    "# coefficients\n",
    "coefficients = logistic_model.coef_.reshape((9, 1)).tolist()\n",
    "coefficients = [val for sublist in coefficients for val in sublist]\n",
    "coefficients = [round(coefficient, 3) for coefficient in coefficients]\n",
    "\n",
    "logistic_features = list(X_train.columns)\n",
    "coefficients_df = pd.DataFrame(logistic_model.coef_, columns=logistic_features)"
   ]
  },
  {
   "cell_type": "code",
   "execution_count": 100,
   "metadata": {
    "colab": {},
    "colab_type": "code",
    "id": "FlaTGIPvqukN",
    "outputId": "308b92e6-b756-4846-ea09-3e9c4e575a81"
   },
   "outputs": [
    {
     "data": {
      "text/html": [
       "<div>\n",
       "<style scoped>\n",
       "    .dataframe tbody tr th:only-of-type {\n",
       "        vertical-align: middle;\n",
       "    }\n",
       "\n",
       "    .dataframe tbody tr th {\n",
       "        vertical-align: top;\n",
       "    }\n",
       "\n",
       "    .dataframe thead th {\n",
       "        text-align: right;\n",
       "    }\n",
       "</style>\n",
       "<table border=\"1\" class=\"dataframe\">\n",
       "  <thead>\n",
       "    <tr style=\"text-align: right;\">\n",
       "      <th></th>\n",
       "      <th>intercept</th>\n",
       "      <th>total_ic_mou_8</th>\n",
       "      <th>total_rech_amt_diff</th>\n",
       "      <th>total_og_mou_8</th>\n",
       "      <th>arpu_8</th>\n",
       "      <th>roam_ic_mou_8</th>\n",
       "      <th>roam_og_mou_8</th>\n",
       "      <th>std_ic_mou_8</th>\n",
       "      <th>av_rech_amt_data_8</th>\n",
       "      <th>std_og_mou_8</th>\n",
       "    </tr>\n",
       "  </thead>\n",
       "  <tbody>\n",
       "    <tr>\n",
       "      <th>0</th>\n",
       "      <td>-1.515791</td>\n",
       "      <td>-1.133135</td>\n",
       "      <td>-0.707501</td>\n",
       "      <td>-1.53159</td>\n",
       "      <td>0.226722</td>\n",
       "      <td>-0.024287</td>\n",
       "      <td>0.206212</td>\n",
       "      <td>0.053063</td>\n",
       "      <td>-0.78127</td>\n",
       "      <td>0.94864</td>\n",
       "    </tr>\n",
       "  </tbody>\n",
       "</table>\n",
       "</div>"
      ],
      "text/plain": [
       "   intercept  total_ic_mou_8  total_rech_amt_diff  total_og_mou_8    arpu_8  \\\n",
       "0  -1.515791       -1.133135            -0.707501        -1.53159  0.226722   \n",
       "\n",
       "   roam_ic_mou_8  roam_og_mou_8  std_ic_mou_8  av_rech_amt_data_8  \\\n",
       "0      -0.024287       0.206212      0.053063            -0.78127   \n",
       "\n",
       "   std_og_mou_8  \n",
       "0       0.94864  "
      ]
     },
     "execution_count": 100,
     "metadata": {},
     "output_type": "execute_result"
    }
   ],
   "source": [
    "# concatenate dataframes\n",
    "coefficients = pd.concat([intercept_df, coefficients_df], axis=1)\n",
    "coefficients"
   ]
  },
  {
   "cell_type": "markdown",
   "metadata": {
    "colab_type": "text",
    "id": "yn3_L8apqukP"
   },
   "source": [
    "## Business Insights\n",
    "1. When we analyse the top features, we notice that the outgoing calls / incoming calls are the most importance and telecom company can subsidize or can release some special packages for those subscribers. To be more precise, \n",
    "    - Outgoing calls - The feature \"total_og_mou\" stands out as the top most features and the telecom company can focus on over all outgoing calls instead of differentiating them based on mobile to mobile / landline or own network to own network / other netwrk\n",
    "    - Incoming calls - Here instead of focusing at overall level for incoming calls, telecom company can focus more on Operator T to T, i.e. within same operator (mobile to mobile) as the feature \"loc_ic_t2t_mou_8\" is second more important one\n",
    "- The subscriber who use highest STD and ISD calls should be focused from both call rates and service perspectives to retain them\n"
   ]
  }
 ],
 "metadata": {
  "kernelspec": {
   "display_name": "Python 3",
   "language": "python",
   "name": "python3"
  },
  "language_info": {
   "codemirror_mode": {
    "name": "ipython",
    "version": 3
   },
   "file_extension": ".py",
   "mimetype": "text/x-python",
   "name": "python",
   "nbconvert_exporter": "python",
   "pygments_lexer": "ipython3",
   "version": "3.7.3"
  }
 },
 "nbformat": 4,
 "nbformat_minor": 2
}
